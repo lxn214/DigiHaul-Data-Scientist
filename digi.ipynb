{
 "cells": [
  {
   "cell_type": "code",
   "execution_count": 175,
   "metadata": {},
   "outputs": [],
   "source": [
    "import pandas as pd\n",
    "import numpy as np\n",
    "from datetime import datetime, timedelta\n",
    "import warnings\n",
    "import matplotlib.pyplot as plt\n",
    "import seaborn as sns\n",
    "from sklearn.model_selection import train_test_split, GridSearchCV\n",
    "from sklearn.ensemble import GradientBoostingClassifier\n",
    "from sklearn.metrics import accuracy_score, classification_report, confusion_matrix\n",
    "from sklearn.preprocessing import StandardScaler, OneHotEncoder\n",
    "from sklearn.compose import ColumnTransformer\n",
    "from sklearn.pipeline import Pipeline\n",
    "from sklearn.metrics import roc_auc_score, roc_curve, precision_recall_curve, auc\n",
    "# Suppress all warnings\n",
    "warnings.filterwarnings('ignore')"
   ]
  },
  {
   "cell_type": "code",
   "execution_count": 176,
   "metadata": {},
   "outputs": [
    {
     "name": "stdout",
     "output_type": "stream",
     "text": [
      "datetime64[ns, UTC]\n",
      "datetime64[ns, UTC]\n",
      "datetime64[ns, UTC]\n"
     ]
    }
   ],
   "source": [
    "# Load the datasets\n",
    "gps_data = pd.read_csv('GPS_data.csv')\n",
    "bookings = pd.read_csv('Shipment_bookings.csv')\n",
    "new_bookings = pd.read_csv('New_bookings.csv')\n",
    "\n",
    "# Attempt to parse datetime fields explicitly with timezone awareness\n",
    "gps_data['RECORD_TIMESTAMP'] = pd.to_datetime(gps_data['RECORD_TIMESTAMP'], errors='coerce', utc=True)\n",
    "bookings['LAST_DELIVERY_SCHEDULE_LATEST'] = pd.to_datetime(bookings['LAST_DELIVERY_SCHEDULE_LATEST'], errors='coerce', utc=True)\n",
    "new_bookings['LAST_DELIVERY_SCHEDULE_LATEST'] = pd.to_datetime(new_bookings['LAST_DELIVERY_SCHEDULE_LATEST'], errors='coerce', utc=True)\n",
    "\n",
    "# Check the dtypes to confirm if the columns are correctly parsed\n",
    "print(gps_data['RECORD_TIMESTAMP'].dtype)\n",
    "print(bookings['LAST_DELIVERY_SCHEDULE_LATEST'].dtype)\n",
    "print(new_bookings['LAST_DELIVERY_SCHEDULE_LATEST'].dtype)"
   ]
  },
  {
   "attachments": {},
   "cell_type": "markdown",
   "metadata": {},
   "source": [
    "Exploratory Data Analysis"
   ]
  },
  {
   "cell_type": "code",
   "execution_count": 177,
   "metadata": {},
   "outputs": [
    {
     "data": {
      "text/html": [
       "<div>\n",
       "<style scoped>\n",
       "    .dataframe tbody tr th:only-of-type {\n",
       "        vertical-align: middle;\n",
       "    }\n",
       "\n",
       "    .dataframe tbody tr th {\n",
       "        vertical-align: top;\n",
       "    }\n",
       "\n",
       "    .dataframe thead th {\n",
       "        text-align: right;\n",
       "    }\n",
       "</style>\n",
       "<table border=\"1\" class=\"dataframe\">\n",
       "  <thead>\n",
       "    <tr style=\"text-align: right;\">\n",
       "      <th></th>\n",
       "      <th>SHIPMENT_NUMBER</th>\n",
       "      <th>LAT</th>\n",
       "      <th>LON</th>\n",
       "      <th>RECORD_TIMESTAMP</th>\n",
       "    </tr>\n",
       "  </thead>\n",
       "  <tbody>\n",
       "    <tr>\n",
       "      <th>0</th>\n",
       "      <td>SEZHUK-230918-245388</td>\n",
       "      <td>53.291931</td>\n",
       "      <td>-1.072948</td>\n",
       "      <td>2023-10-09 18:25:00+00:00</td>\n",
       "    </tr>\n",
       "    <tr>\n",
       "      <th>1</th>\n",
       "      <td>SEZHUK-230918-245388</td>\n",
       "      <td>53.400404</td>\n",
       "      <td>-1.078563</td>\n",
       "      <td>2023-10-09 18:40:00+00:00</td>\n",
       "    </tr>\n",
       "    <tr>\n",
       "      <th>2</th>\n",
       "      <td>SEZHUK-230918-245388</td>\n",
       "      <td>53.574182</td>\n",
       "      <td>-1.215761</td>\n",
       "      <td>2023-10-09 18:55:00+00:00</td>\n",
       "    </tr>\n",
       "    <tr>\n",
       "      <th>3</th>\n",
       "      <td>SEZHUK-230918-245388</td>\n",
       "      <td>53.706805</td>\n",
       "      <td>-1.336503</td>\n",
       "      <td>2023-10-09 19:10:00+00:00</td>\n",
       "    </tr>\n",
       "    <tr>\n",
       "      <th>4</th>\n",
       "      <td>SEZHUK-230918-245388</td>\n",
       "      <td>53.747501</td>\n",
       "      <td>-1.640298</td>\n",
       "      <td>2023-10-09 19:25:00+00:00</td>\n",
       "    </tr>\n",
       "  </tbody>\n",
       "</table>\n",
       "</div>"
      ],
      "text/plain": [
       "        SHIPMENT_NUMBER        LAT       LON          RECORD_TIMESTAMP\n",
       "0  SEZHUK-230918-245388  53.291931 -1.072948 2023-10-09 18:25:00+00:00\n",
       "1  SEZHUK-230918-245388  53.400404 -1.078563 2023-10-09 18:40:00+00:00\n",
       "2  SEZHUK-230918-245388  53.574182 -1.215761 2023-10-09 18:55:00+00:00\n",
       "3  SEZHUK-230918-245388  53.706805 -1.336503 2023-10-09 19:10:00+00:00\n",
       "4  SEZHUK-230918-245388  53.747501 -1.640298 2023-10-09 19:25:00+00:00"
      ]
     },
     "execution_count": 177,
     "metadata": {},
     "output_type": "execute_result"
    }
   ],
   "source": [
    "gps_data.head()"
   ]
  },
  {
   "cell_type": "code",
   "execution_count": 178,
   "metadata": {},
   "outputs": [
    {
     "data": {
      "text/html": [
       "<div>\n",
       "<style scoped>\n",
       "    .dataframe tbody tr th:only-of-type {\n",
       "        vertical-align: middle;\n",
       "    }\n",
       "\n",
       "    .dataframe tbody tr th {\n",
       "        vertical-align: top;\n",
       "    }\n",
       "\n",
       "    .dataframe thead th {\n",
       "        text-align: right;\n",
       "    }\n",
       "</style>\n",
       "<table border=\"1\" class=\"dataframe\">\n",
       "  <thead>\n",
       "    <tr style=\"text-align: right;\">\n",
       "      <th></th>\n",
       "      <th>PROJECT_ID</th>\n",
       "      <th>SHIPMENT_NUMBER</th>\n",
       "      <th>CARRIER_DISPLAY_ID</th>\n",
       "      <th>VEHICLE_SIZE</th>\n",
       "      <th>VEHICLE_BUILD_UP</th>\n",
       "      <th>FIRST_COLLECTION_POST_CODE</th>\n",
       "      <th>LAST_DELIVERY_POST_CODE</th>\n",
       "      <th>FIRST_COLLECTION_LATITUDE</th>\n",
       "      <th>FIRST_COLLECTION_LONGITUDE</th>\n",
       "      <th>LAST_DELIVERY_LATITUDE</th>\n",
       "      <th>LAST_DELIVERY_LONGITUDE</th>\n",
       "      <th>FIRST_COLLECTION_SCHEDULE_EARLIEST</th>\n",
       "      <th>FIRST_COLLECTION_SCHEDULE_LATEST</th>\n",
       "      <th>LAST_DELIVERY_SCHEDULE_EARLIEST</th>\n",
       "      <th>LAST_DELIVERY_SCHEDULE_LATEST</th>\n",
       "    </tr>\n",
       "  </thead>\n",
       "  <tbody>\n",
       "    <tr>\n",
       "      <th>0</th>\n",
       "      <td>5456fcfa-5b0c-428e-b322-240d508b6660</td>\n",
       "      <td>SEZHUK-231005-250448</td>\n",
       "      <td>CAUK000096</td>\n",
       "      <td>Tractor Unit</td>\n",
       "      <td>Curtain-Side 13.6M Trailer</td>\n",
       "      <td>PE29 2XR</td>\n",
       "      <td>EH48 2FB</td>\n",
       "      <td>52.315672</td>\n",
       "      <td>-0.157664</td>\n",
       "      <td>55.877803</td>\n",
       "      <td>-3.648558</td>\n",
       "      <td>2023-10-06T09:45:00.000Z</td>\n",
       "      <td>2023-10-06T10:00:00.000Z</td>\n",
       "      <td>2023-10-09T09:55:00.000Z</td>\n",
       "      <td>2023-10-09 10:25:00+00:00</td>\n",
       "    </tr>\n",
       "    <tr>\n",
       "      <th>1</th>\n",
       "      <td>eb7a9df0-4875-43d8-9060-c79c35eae2fb</td>\n",
       "      <td>SEZHUK-231217-275004</td>\n",
       "      <td>CAUK000660</td>\n",
       "      <td>Tractor Unit</td>\n",
       "      <td>Box 44ft</td>\n",
       "      <td>BD5 8LZ</td>\n",
       "      <td>RG19 4BQ</td>\n",
       "      <td>53.764125</td>\n",
       "      <td>-1.740145</td>\n",
       "      <td>51.398851</td>\n",
       "      <td>-1.231993</td>\n",
       "      <td>2023-12-19T14:20:00.000Z</td>\n",
       "      <td>2023-12-19T16:00:00.000Z</td>\n",
       "      <td>2023-12-20T06:00:00.000Z</td>\n",
       "      <td>2023-12-20 08:56:00+00:00</td>\n",
       "    </tr>\n",
       "    <tr>\n",
       "      <th>2</th>\n",
       "      <td>eb7a9df0-4875-43d8-9060-c79c35eae2fb</td>\n",
       "      <td>SEZHUK-231210-272018</td>\n",
       "      <td>CAUK000435</td>\n",
       "      <td>Tractor Unit</td>\n",
       "      <td>Box 44ft</td>\n",
       "      <td>BD5 8LZ</td>\n",
       "      <td>EN3 7QP</td>\n",
       "      <td>53.767302</td>\n",
       "      <td>-1.746560</td>\n",
       "      <td>51.660700</td>\n",
       "      <td>-0.022247</td>\n",
       "      <td>2023-12-14T01:20:00.000Z</td>\n",
       "      <td>2023-12-14T03:00:00.000Z</td>\n",
       "      <td>2023-12-14T07:03:00.000Z</td>\n",
       "      <td>2023-12-14 10:43:00+00:00</td>\n",
       "    </tr>\n",
       "    <tr>\n",
       "      <th>3</th>\n",
       "      <td>40415fe3-e446-4d1e-b141-3698b0dc47f3</td>\n",
       "      <td>SEZHUK-231211-272127</td>\n",
       "      <td>CAUK000096</td>\n",
       "      <td>Tractor Unit</td>\n",
       "      <td>Curtain-Side 13.6M Trailer</td>\n",
       "      <td>HP22 5BL</td>\n",
       "      <td>NG31 7UH</td>\n",
       "      <td>51.779657</td>\n",
       "      <td>-0.772897</td>\n",
       "      <td>52.888113</td>\n",
       "      <td>-0.634948</td>\n",
       "      <td>2023-12-13T09:00:00.000Z</td>\n",
       "      <td>2023-12-13T09:30:00.000Z</td>\n",
       "      <td>2023-12-13T15:30:00.000Z</td>\n",
       "      <td>2023-12-13 16:00:00+00:00</td>\n",
       "    </tr>\n",
       "    <tr>\n",
       "      <th>4</th>\n",
       "      <td>39a4e234-5d35-4d94-8e8a-b8bf6fe13953</td>\n",
       "      <td>SEZHUK-231025-256168</td>\n",
       "      <td>CAUK000155</td>\n",
       "      <td>Tractor Unit</td>\n",
       "      <td>Curtain Side</td>\n",
       "      <td>CV23 8BQ</td>\n",
       "      <td>G75 0ZZ</td>\n",
       "      <td>52.334853</td>\n",
       "      <td>-1.180450</td>\n",
       "      <td>55.735089</td>\n",
       "      <td>-4.168719</td>\n",
       "      <td>2023-11-07T14:00:00.000Z</td>\n",
       "      <td>2023-11-07T15:00:00.000Z</td>\n",
       "      <td>2023-11-07T23:00:00.000Z</td>\n",
       "      <td>2023-11-07 23:59:00+00:00</td>\n",
       "    </tr>\n",
       "  </tbody>\n",
       "</table>\n",
       "</div>"
      ],
      "text/plain": [
       "                             PROJECT_ID       SHIPMENT_NUMBER  \\\n",
       "0  5456fcfa-5b0c-428e-b322-240d508b6660  SEZHUK-231005-250448   \n",
       "1  eb7a9df0-4875-43d8-9060-c79c35eae2fb  SEZHUK-231217-275004   \n",
       "2  eb7a9df0-4875-43d8-9060-c79c35eae2fb  SEZHUK-231210-272018   \n",
       "3  40415fe3-e446-4d1e-b141-3698b0dc47f3  SEZHUK-231211-272127   \n",
       "4  39a4e234-5d35-4d94-8e8a-b8bf6fe13953  SEZHUK-231025-256168   \n",
       "\n",
       "  CARRIER_DISPLAY_ID  VEHICLE_SIZE            VEHICLE_BUILD_UP  \\\n",
       "0         CAUK000096  Tractor Unit  Curtain-Side 13.6M Trailer   \n",
       "1         CAUK000660  Tractor Unit                    Box 44ft   \n",
       "2         CAUK000435  Tractor Unit                    Box 44ft   \n",
       "3         CAUK000096  Tractor Unit  Curtain-Side 13.6M Trailer   \n",
       "4         CAUK000155  Tractor Unit                Curtain Side   \n",
       "\n",
       "  FIRST_COLLECTION_POST_CODE LAST_DELIVERY_POST_CODE  \\\n",
       "0                   PE29 2XR                EH48 2FB   \n",
       "1                    BD5 8LZ                RG19 4BQ   \n",
       "2                    BD5 8LZ                 EN3 7QP   \n",
       "3                   HP22 5BL                NG31 7UH   \n",
       "4                   CV23 8BQ                 G75 0ZZ   \n",
       "\n",
       "   FIRST_COLLECTION_LATITUDE  FIRST_COLLECTION_LONGITUDE  \\\n",
       "0                  52.315672                   -0.157664   \n",
       "1                  53.764125                   -1.740145   \n",
       "2                  53.767302                   -1.746560   \n",
       "3                  51.779657                   -0.772897   \n",
       "4                  52.334853                   -1.180450   \n",
       "\n",
       "   LAST_DELIVERY_LATITUDE  LAST_DELIVERY_LONGITUDE  \\\n",
       "0               55.877803                -3.648558   \n",
       "1               51.398851                -1.231993   \n",
       "2               51.660700                -0.022247   \n",
       "3               52.888113                -0.634948   \n",
       "4               55.735089                -4.168719   \n",
       "\n",
       "  FIRST_COLLECTION_SCHEDULE_EARLIEST FIRST_COLLECTION_SCHEDULE_LATEST  \\\n",
       "0           2023-10-06T09:45:00.000Z         2023-10-06T10:00:00.000Z   \n",
       "1           2023-12-19T14:20:00.000Z         2023-12-19T16:00:00.000Z   \n",
       "2           2023-12-14T01:20:00.000Z         2023-12-14T03:00:00.000Z   \n",
       "3           2023-12-13T09:00:00.000Z         2023-12-13T09:30:00.000Z   \n",
       "4           2023-11-07T14:00:00.000Z         2023-11-07T15:00:00.000Z   \n",
       "\n",
       "  LAST_DELIVERY_SCHEDULE_EARLIEST LAST_DELIVERY_SCHEDULE_LATEST  \n",
       "0        2023-10-09T09:55:00.000Z     2023-10-09 10:25:00+00:00  \n",
       "1        2023-12-20T06:00:00.000Z     2023-12-20 08:56:00+00:00  \n",
       "2        2023-12-14T07:03:00.000Z     2023-12-14 10:43:00+00:00  \n",
       "3        2023-12-13T15:30:00.000Z     2023-12-13 16:00:00+00:00  \n",
       "4        2023-11-07T23:00:00.000Z     2023-11-07 23:59:00+00:00  "
      ]
     },
     "execution_count": 178,
     "metadata": {},
     "output_type": "execute_result"
    }
   ],
   "source": [
    "bookings.head()"
   ]
  },
  {
   "cell_type": "code",
   "execution_count": 179,
   "metadata": {},
   "outputs": [
    {
     "data": {
      "text/html": [
       "<div>\n",
       "<style scoped>\n",
       "    .dataframe tbody tr th:only-of-type {\n",
       "        vertical-align: middle;\n",
       "    }\n",
       "\n",
       "    .dataframe tbody tr th {\n",
       "        vertical-align: top;\n",
       "    }\n",
       "\n",
       "    .dataframe thead th {\n",
       "        text-align: right;\n",
       "    }\n",
       "</style>\n",
       "<table border=\"1\" class=\"dataframe\">\n",
       "  <thead>\n",
       "    <tr style=\"text-align: right;\">\n",
       "      <th></th>\n",
       "      <th>SHIPMENT_NUMBER</th>\n",
       "      <th>SHIPPER_ID</th>\n",
       "      <th>CARRIER_ID</th>\n",
       "      <th>VEHICLE_SIZE</th>\n",
       "      <th>VEHICLE_BUILD_UP</th>\n",
       "      <th>FIRST_COLLECTION_POST_CODE</th>\n",
       "      <th>LAST_DELIVERY_POST_CODE</th>\n",
       "      <th>FIRST_COLLECTION_LATITUDE</th>\n",
       "      <th>FIRST_COLLECTION_LONGITUDE</th>\n",
       "      <th>LAST_DELIVERY_LATITUDE</th>\n",
       "      <th>LAST_DELIVERY_LONGITUDE</th>\n",
       "      <th>FIRST_COLLECTION_SCHEDULE_EARLIEST</th>\n",
       "      <th>FIRST_COLLECTION_SCHEDULE_LATEST</th>\n",
       "      <th>LAST_DELIVERY_SCHEDULE_EARLIEST</th>\n",
       "      <th>LAST_DELIVERY_SCHEDULE_LATEST</th>\n",
       "    </tr>\n",
       "  </thead>\n",
       "  <tbody>\n",
       "    <tr>\n",
       "      <th>0</th>\n",
       "      <td>SEZHUK-240118-283413</td>\n",
       "      <td>ee7cbc7b-4f14-44ac-9c6e-086d70a27141</td>\n",
       "      <td>CAUK000872</td>\n",
       "      <td>Tractor Unit</td>\n",
       "      <td>Box</td>\n",
       "      <td>DUBLIN</td>\n",
       "      <td>DN3 3FF</td>\n",
       "      <td>53.407411</td>\n",
       "      <td>-6.238118</td>\n",
       "      <td>53.537912</td>\n",
       "      <td>-1.033570</td>\n",
       "      <td>2024-01-18T18:00:00.000Z</td>\n",
       "      <td>2024-01-18T23:00:00.000Z</td>\n",
       "      <td>2024-01-19T12:00:00.000Z</td>\n",
       "      <td>2024-01-19 13:00:00+00:00</td>\n",
       "    </tr>\n",
       "    <tr>\n",
       "      <th>1</th>\n",
       "      <td>SEZHUK-240111-281159</td>\n",
       "      <td>192cd5b5-978c-4681-b206-2f4d04e081ec</td>\n",
       "      <td>CAUK000876</td>\n",
       "      <td>Tractor Unit</td>\n",
       "      <td>Curtain-Side 13.6M Trailer</td>\n",
       "      <td>LS24 9SD</td>\n",
       "      <td>BT26 6JJ</td>\n",
       "      <td>53.882244</td>\n",
       "      <td>-1.267537</td>\n",
       "      <td>54.474078</td>\n",
       "      <td>-6.104285</td>\n",
       "      <td>2024-01-12T10:00:00.000Z</td>\n",
       "      <td>2024-01-16T07:00:00.000Z</td>\n",
       "      <td>2024-01-16T07:30:00.000Z</td>\n",
       "      <td>2024-01-16 08:00:00+00:00</td>\n",
       "    </tr>\n",
       "    <tr>\n",
       "      <th>2</th>\n",
       "      <td>SEZHUK-240110-280958</td>\n",
       "      <td>ee7cbc7b-4f14-44ac-9c6e-086d70a27141</td>\n",
       "      <td>CAUK000872</td>\n",
       "      <td>Tractor Unit</td>\n",
       "      <td>Curtain-Side 13.6M Trailer</td>\n",
       "      <td>DUBLIN</td>\n",
       "      <td>DN3 3FF</td>\n",
       "      <td>53.407411</td>\n",
       "      <td>-6.238118</td>\n",
       "      <td>53.537912</td>\n",
       "      <td>-1.033570</td>\n",
       "      <td>2024-01-11T15:03:00.000Z</td>\n",
       "      <td>2024-01-11T15:33:00.000Z</td>\n",
       "      <td>2024-01-12T14:33:00.000Z</td>\n",
       "      <td>2024-01-12 15:03:00+00:00</td>\n",
       "    </tr>\n",
       "    <tr>\n",
       "      <th>3</th>\n",
       "      <td>SEZHUK-240115-282151</td>\n",
       "      <td>3244246f-e37c-4ba4-b9b3-61416a4449ae</td>\n",
       "      <td>CAUK000250</td>\n",
       "      <td>Tractor Unit</td>\n",
       "      <td>Curtain-Side 13.6M Trailer</td>\n",
       "      <td>S80 3FY</td>\n",
       "      <td>DUBLIN</td>\n",
       "      <td>53.293393</td>\n",
       "      <td>-1.074008</td>\n",
       "      <td>53.294121</td>\n",
       "      <td>-6.441900</td>\n",
       "      <td>2024-01-16T06:00:00.000Z</td>\n",
       "      <td>2024-01-16T06:59:00.000Z</td>\n",
       "      <td>2024-01-18T11:01:00.000Z</td>\n",
       "      <td>2024-01-18 11:31:00+00:00</td>\n",
       "    </tr>\n",
       "    <tr>\n",
       "      <th>4</th>\n",
       "      <td>SEZHUK-240110-280768</td>\n",
       "      <td>3244246f-e37c-4ba4-b9b3-61416a4449ae</td>\n",
       "      <td>CAUK000250</td>\n",
       "      <td>Tractor Unit</td>\n",
       "      <td>Curtain-Side 13.6M Trailer</td>\n",
       "      <td>S80 3FY</td>\n",
       "      <td>BT36 7LQ</td>\n",
       "      <td>53.293393</td>\n",
       "      <td>-1.074008</td>\n",
       "      <td>54.664518</td>\n",
       "      <td>-5.932184</td>\n",
       "      <td>2024-01-11T06:00:00.000Z</td>\n",
       "      <td>2024-01-11T06:59:00.000Z</td>\n",
       "      <td>2024-01-15T07:25:00.000Z</td>\n",
       "      <td>2024-01-15 07:55:00+00:00</td>\n",
       "    </tr>\n",
       "  </tbody>\n",
       "</table>\n",
       "</div>"
      ],
      "text/plain": [
       "        SHIPMENT_NUMBER                            SHIPPER_ID  CARRIER_ID  \\\n",
       "0  SEZHUK-240118-283413  ee7cbc7b-4f14-44ac-9c6e-086d70a27141  CAUK000872   \n",
       "1  SEZHUK-240111-281159  192cd5b5-978c-4681-b206-2f4d04e081ec  CAUK000876   \n",
       "2  SEZHUK-240110-280958  ee7cbc7b-4f14-44ac-9c6e-086d70a27141  CAUK000872   \n",
       "3  SEZHUK-240115-282151  3244246f-e37c-4ba4-b9b3-61416a4449ae  CAUK000250   \n",
       "4  SEZHUK-240110-280768  3244246f-e37c-4ba4-b9b3-61416a4449ae  CAUK000250   \n",
       "\n",
       "   VEHICLE_SIZE            VEHICLE_BUILD_UP FIRST_COLLECTION_POST_CODE  \\\n",
       "0  Tractor Unit                         Box                     DUBLIN   \n",
       "1  Tractor Unit  Curtain-Side 13.6M Trailer                   LS24 9SD   \n",
       "2  Tractor Unit  Curtain-Side 13.6M Trailer                     DUBLIN   \n",
       "3  Tractor Unit  Curtain-Side 13.6M Trailer                    S80 3FY   \n",
       "4  Tractor Unit  Curtain-Side 13.6M Trailer                    S80 3FY   \n",
       "\n",
       "  LAST_DELIVERY_POST_CODE  FIRST_COLLECTION_LATITUDE  \\\n",
       "0                 DN3 3FF                  53.407411   \n",
       "1                BT26 6JJ                  53.882244   \n",
       "2                 DN3 3FF                  53.407411   \n",
       "3                  DUBLIN                  53.293393   \n",
       "4                BT36 7LQ                  53.293393   \n",
       "\n",
       "   FIRST_COLLECTION_LONGITUDE  LAST_DELIVERY_LATITUDE  \\\n",
       "0                   -6.238118               53.537912   \n",
       "1                   -1.267537               54.474078   \n",
       "2                   -6.238118               53.537912   \n",
       "3                   -1.074008               53.294121   \n",
       "4                   -1.074008               54.664518   \n",
       "\n",
       "   LAST_DELIVERY_LONGITUDE FIRST_COLLECTION_SCHEDULE_EARLIEST  \\\n",
       "0                -1.033570           2024-01-18T18:00:00.000Z   \n",
       "1                -6.104285           2024-01-12T10:00:00.000Z   \n",
       "2                -1.033570           2024-01-11T15:03:00.000Z   \n",
       "3                -6.441900           2024-01-16T06:00:00.000Z   \n",
       "4                -5.932184           2024-01-11T06:00:00.000Z   \n",
       "\n",
       "  FIRST_COLLECTION_SCHEDULE_LATEST LAST_DELIVERY_SCHEDULE_EARLIEST  \\\n",
       "0         2024-01-18T23:00:00.000Z        2024-01-19T12:00:00.000Z   \n",
       "1         2024-01-16T07:00:00.000Z        2024-01-16T07:30:00.000Z   \n",
       "2         2024-01-11T15:33:00.000Z        2024-01-12T14:33:00.000Z   \n",
       "3         2024-01-16T06:59:00.000Z        2024-01-18T11:01:00.000Z   \n",
       "4         2024-01-11T06:59:00.000Z        2024-01-15T07:25:00.000Z   \n",
       "\n",
       "  LAST_DELIVERY_SCHEDULE_LATEST  \n",
       "0     2024-01-19 13:00:00+00:00  \n",
       "1     2024-01-16 08:00:00+00:00  \n",
       "2     2024-01-12 15:03:00+00:00  \n",
       "3     2024-01-18 11:31:00+00:00  \n",
       "4     2024-01-15 07:55:00+00:00  "
      ]
     },
     "execution_count": 179,
     "metadata": {},
     "output_type": "execute_result"
    }
   ],
   "source": [
    "# This line of code is used to display the first few rows of the DataFrame 'new_bookings'\n",
    "# 'head()' is a function that returns the first n rows of a DataFrame. By default, n=5.\n",
    "# It's a good practice to check the first few rows of your data before proceeding with further analysis or preprocessing.\n",
    "new_bookings.head()"
   ]
  },
  {
   "cell_type": "code",
   "execution_count": 180,
   "metadata": {},
   "outputs": [
    {
     "name": "stdout",
     "output_type": "stream",
     "text": [
      "<class 'pandas.core.frame.DataFrame'>\n",
      "RangeIndex: 641662 entries, 0 to 641661\n",
      "Data columns (total 4 columns):\n",
      " #   Column            Non-Null Count   Dtype              \n",
      "---  ------            --------------   -----              \n",
      " 0   SHIPMENT_NUMBER   641662 non-null  object             \n",
      " 1   LAT               641662 non-null  float64            \n",
      " 2   LON               641662 non-null  float64            \n",
      " 3   RECORD_TIMESTAMP  641662 non-null  datetime64[ns, UTC]\n",
      "dtypes: datetime64[ns, UTC](1), float64(2), object(1)\n",
      "memory usage: 19.6+ MB\n"
     ]
    }
   ],
   "source": [
    "gps_data.info()\n"
   ]
  },
  {
   "cell_type": "code",
   "execution_count": 181,
   "metadata": {},
   "outputs": [],
   "source": [
    "# This function prints information about the DataFrame 'bookings'\n",
    "#\n",
    "# Parameters:\n",
    "# bookings (DataFrame): The DataFrame to be analyzed\n",
    "#\n",
    "# Returns:\n",
    "# None\n",
    "def analyze_bookings(bookings):\n",
    "    \"\"\"\n",
    "    Prints information about the DataFrame 'bookings'.\n",
    "\n",
    "    Parameters:\n",
    "    bookings (DataFrame): The DataFrame to be analyzed\n",
    "\n",
    "    Returns:\n",
    "    None\n",
    "    \"\"\"\n",
    "    # Print information about the DataFrame\n",
    "    bookings.info()"
   ]
  },
  {
   "cell_type": "code",
   "execution_count": 182,
   "metadata": {},
   "outputs": [
    {
     "name": "stdout",
     "output_type": "stream",
     "text": [
      "<class 'pandas.core.frame.DataFrame'>\n",
      "RangeIndex: 1000 entries, 0 to 999\n",
      "Data columns (total 15 columns):\n",
      " #   Column                              Non-Null Count  Dtype              \n",
      "---  ------                              --------------  -----              \n",
      " 0   SHIPMENT_NUMBER                     1000 non-null   object             \n",
      " 1   SHIPPER_ID                          1000 non-null   object             \n",
      " 2   CARRIER_ID                          1000 non-null   object             \n",
      " 3   VEHICLE_SIZE                        1000 non-null   object             \n",
      " 4   VEHICLE_BUILD_UP                    1000 non-null   object             \n",
      " 5   FIRST_COLLECTION_POST_CODE          998 non-null    object             \n",
      " 6   LAST_DELIVERY_POST_CODE             1000 non-null   object             \n",
      " 7   FIRST_COLLECTION_LATITUDE           1000 non-null   float64            \n",
      " 8   FIRST_COLLECTION_LONGITUDE          1000 non-null   float64            \n",
      " 9   LAST_DELIVERY_LATITUDE              1000 non-null   float64            \n",
      " 10  LAST_DELIVERY_LONGITUDE             1000 non-null   float64            \n",
      " 11  FIRST_COLLECTION_SCHEDULE_EARLIEST  1000 non-null   object             \n",
      " 12  FIRST_COLLECTION_SCHEDULE_LATEST    1000 non-null   object             \n",
      " 13  LAST_DELIVERY_SCHEDULE_EARLIEST     1000 non-null   object             \n",
      " 14  LAST_DELIVERY_SCHEDULE_LATEST       1000 non-null   datetime64[ns, UTC]\n",
      "dtypes: datetime64[ns, UTC](1), float64(4), object(10)\n",
      "memory usage: 117.3+ KB\n"
     ]
    }
   ],
   "source": [
    "new_bookings.info()\n",
    "# This function prints information about the DataFrame 'bookings'\n",
    "#\n",
    "# Parameters:\n",
    "# bookings (DataFrame): The DataFrame to be analyzed\n",
    "#\n",
    "# Returns:\n",
    "# None\n",
    "def analyze_bookings(bookings):\n",
    "    \"\"\"\n",
    "    Prints information about the DataFrame 'bookings'.\n",
    "\n",
    "    Parameters:\n",
    "    bookings (DataFrame): The DataFrame to be analyzed\n",
    "\n",
    "    Returns:\n",
    "    None\n",
    "    \"\"\"\n",
    "    # Print information about the DataFrame\n",
    "    bookings.info()"
   ]
  },
  {
   "attachments": {},
   "cell_type": "markdown",
   "metadata": {},
   "source": [
    "Merging Datasets"
   ]
  },
  {
   "cell_type": "code",
   "execution_count": 183,
   "metadata": {},
   "outputs": [
    {
     "data": {
      "text/html": [
       "<div>\n",
       "<style scoped>\n",
       "    .dataframe tbody tr th:only-of-type {\n",
       "        vertical-align: middle;\n",
       "    }\n",
       "\n",
       "    .dataframe tbody tr th {\n",
       "        vertical-align: top;\n",
       "    }\n",
       "\n",
       "    .dataframe thead th {\n",
       "        text-align: right;\n",
       "    }\n",
       "</style>\n",
       "<table border=\"1\" class=\"dataframe\">\n",
       "  <thead>\n",
       "    <tr style=\"text-align: right;\">\n",
       "      <th></th>\n",
       "      <th>PROJECT_ID</th>\n",
       "      <th>SHIPMENT_NUMBER</th>\n",
       "      <th>CARRIER_DISPLAY_ID</th>\n",
       "      <th>VEHICLE_SIZE</th>\n",
       "      <th>VEHICLE_BUILD_UP</th>\n",
       "      <th>FIRST_COLLECTION_POST_CODE</th>\n",
       "      <th>LAST_DELIVERY_POST_CODE</th>\n",
       "      <th>FIRST_COLLECTION_LATITUDE</th>\n",
       "      <th>FIRST_COLLECTION_LONGITUDE</th>\n",
       "      <th>LAST_DELIVERY_LATITUDE</th>\n",
       "      <th>LAST_DELIVERY_LONGITUDE</th>\n",
       "      <th>FIRST_COLLECTION_SCHEDULE_EARLIEST</th>\n",
       "      <th>FIRST_COLLECTION_SCHEDULE_LATEST</th>\n",
       "      <th>LAST_DELIVERY_SCHEDULE_EARLIEST</th>\n",
       "      <th>LAST_DELIVERY_SCHEDULE_LATEST</th>\n",
       "      <th>LAT</th>\n",
       "      <th>LON</th>\n",
       "      <th>RECORD_TIMESTAMP</th>\n",
       "    </tr>\n",
       "  </thead>\n",
       "  <tbody>\n",
       "    <tr>\n",
       "      <th>0</th>\n",
       "      <td>5456fcfa-5b0c-428e-b322-240d508b6660</td>\n",
       "      <td>SEZHUK-231005-250448</td>\n",
       "      <td>CAUK000096</td>\n",
       "      <td>Tractor Unit</td>\n",
       "      <td>Curtain-Side 13.6M Trailer</td>\n",
       "      <td>PE29 2XR</td>\n",
       "      <td>EH48 2FB</td>\n",
       "      <td>52.315672</td>\n",
       "      <td>-0.157664</td>\n",
       "      <td>55.877803</td>\n",
       "      <td>-3.648558</td>\n",
       "      <td>2023-10-06T09:45:00.000Z</td>\n",
       "      <td>2023-10-06T10:00:00.000Z</td>\n",
       "      <td>2023-10-09T09:55:00.000Z</td>\n",
       "      <td>2023-10-09 10:25:00+00:00</td>\n",
       "      <td>52.316349</td>\n",
       "      <td>-0.156690</td>\n",
       "      <td>2023-10-06 08:58:00+00:00</td>\n",
       "    </tr>\n",
       "    <tr>\n",
       "      <th>1</th>\n",
       "      <td>5456fcfa-5b0c-428e-b322-240d508b6660</td>\n",
       "      <td>SEZHUK-231005-250448</td>\n",
       "      <td>CAUK000096</td>\n",
       "      <td>Tractor Unit</td>\n",
       "      <td>Curtain-Side 13.6M Trailer</td>\n",
       "      <td>PE29 2XR</td>\n",
       "      <td>EH48 2FB</td>\n",
       "      <td>52.315672</td>\n",
       "      <td>-0.157664</td>\n",
       "      <td>55.877803</td>\n",
       "      <td>-3.648558</td>\n",
       "      <td>2023-10-06T09:45:00.000Z</td>\n",
       "      <td>2023-10-06T10:00:00.000Z</td>\n",
       "      <td>2023-10-09T09:55:00.000Z</td>\n",
       "      <td>2023-10-09 10:25:00+00:00</td>\n",
       "      <td>52.316602</td>\n",
       "      <td>-0.157301</td>\n",
       "      <td>2023-10-06 09:03:00+00:00</td>\n",
       "    </tr>\n",
       "    <tr>\n",
       "      <th>2</th>\n",
       "      <td>5456fcfa-5b0c-428e-b322-240d508b6660</td>\n",
       "      <td>SEZHUK-231005-250448</td>\n",
       "      <td>CAUK000096</td>\n",
       "      <td>Tractor Unit</td>\n",
       "      <td>Curtain-Side 13.6M Trailer</td>\n",
       "      <td>PE29 2XR</td>\n",
       "      <td>EH48 2FB</td>\n",
       "      <td>52.315672</td>\n",
       "      <td>-0.157664</td>\n",
       "      <td>55.877803</td>\n",
       "      <td>-3.648558</td>\n",
       "      <td>2023-10-06T09:45:00.000Z</td>\n",
       "      <td>2023-10-06T10:00:00.000Z</td>\n",
       "      <td>2023-10-09T09:55:00.000Z</td>\n",
       "      <td>2023-10-09 10:25:00+00:00</td>\n",
       "      <td>52.316440</td>\n",
       "      <td>-0.157995</td>\n",
       "      <td>2023-10-06 09:05:00+00:00</td>\n",
       "    </tr>\n",
       "    <tr>\n",
       "      <th>3</th>\n",
       "      <td>5456fcfa-5b0c-428e-b322-240d508b6660</td>\n",
       "      <td>SEZHUK-231005-250448</td>\n",
       "      <td>CAUK000096</td>\n",
       "      <td>Tractor Unit</td>\n",
       "      <td>Curtain-Side 13.6M Trailer</td>\n",
       "      <td>PE29 2XR</td>\n",
       "      <td>EH48 2FB</td>\n",
       "      <td>52.315672</td>\n",
       "      <td>-0.157664</td>\n",
       "      <td>55.877803</td>\n",
       "      <td>-3.648558</td>\n",
       "      <td>2023-10-06T09:45:00.000Z</td>\n",
       "      <td>2023-10-06T10:00:00.000Z</td>\n",
       "      <td>2023-10-09T09:55:00.000Z</td>\n",
       "      <td>2023-10-09 10:25:00+00:00</td>\n",
       "      <td>52.316544</td>\n",
       "      <td>-0.157263</td>\n",
       "      <td>2023-10-06 09:24:00+00:00</td>\n",
       "    </tr>\n",
       "    <tr>\n",
       "      <th>4</th>\n",
       "      <td>eb7a9df0-4875-43d8-9060-c79c35eae2fb</td>\n",
       "      <td>SEZHUK-231217-275004</td>\n",
       "      <td>CAUK000660</td>\n",
       "      <td>Tractor Unit</td>\n",
       "      <td>Box 44ft</td>\n",
       "      <td>BD5 8LZ</td>\n",
       "      <td>RG19 4BQ</td>\n",
       "      <td>53.764125</td>\n",
       "      <td>-1.740145</td>\n",
       "      <td>51.398851</td>\n",
       "      <td>-1.231993</td>\n",
       "      <td>2023-12-19T14:20:00.000Z</td>\n",
       "      <td>2023-12-19T16:00:00.000Z</td>\n",
       "      <td>2023-12-20T06:00:00.000Z</td>\n",
       "      <td>2023-12-20 08:56:00+00:00</td>\n",
       "      <td>53.763753</td>\n",
       "      <td>-1.739292</td>\n",
       "      <td>2023-12-19 15:47:00+00:00</td>\n",
       "    </tr>\n",
       "  </tbody>\n",
       "</table>\n",
       "</div>"
      ],
      "text/plain": [
       "                             PROJECT_ID       SHIPMENT_NUMBER  \\\n",
       "0  5456fcfa-5b0c-428e-b322-240d508b6660  SEZHUK-231005-250448   \n",
       "1  5456fcfa-5b0c-428e-b322-240d508b6660  SEZHUK-231005-250448   \n",
       "2  5456fcfa-5b0c-428e-b322-240d508b6660  SEZHUK-231005-250448   \n",
       "3  5456fcfa-5b0c-428e-b322-240d508b6660  SEZHUK-231005-250448   \n",
       "4  eb7a9df0-4875-43d8-9060-c79c35eae2fb  SEZHUK-231217-275004   \n",
       "\n",
       "  CARRIER_DISPLAY_ID  VEHICLE_SIZE            VEHICLE_BUILD_UP  \\\n",
       "0         CAUK000096  Tractor Unit  Curtain-Side 13.6M Trailer   \n",
       "1         CAUK000096  Tractor Unit  Curtain-Side 13.6M Trailer   \n",
       "2         CAUK000096  Tractor Unit  Curtain-Side 13.6M Trailer   \n",
       "3         CAUK000096  Tractor Unit  Curtain-Side 13.6M Trailer   \n",
       "4         CAUK000660  Tractor Unit                    Box 44ft   \n",
       "\n",
       "  FIRST_COLLECTION_POST_CODE LAST_DELIVERY_POST_CODE  \\\n",
       "0                   PE29 2XR                EH48 2FB   \n",
       "1                   PE29 2XR                EH48 2FB   \n",
       "2                   PE29 2XR                EH48 2FB   \n",
       "3                   PE29 2XR                EH48 2FB   \n",
       "4                    BD5 8LZ                RG19 4BQ   \n",
       "\n",
       "   FIRST_COLLECTION_LATITUDE  FIRST_COLLECTION_LONGITUDE  \\\n",
       "0                  52.315672                   -0.157664   \n",
       "1                  52.315672                   -0.157664   \n",
       "2                  52.315672                   -0.157664   \n",
       "3                  52.315672                   -0.157664   \n",
       "4                  53.764125                   -1.740145   \n",
       "\n",
       "   LAST_DELIVERY_LATITUDE  LAST_DELIVERY_LONGITUDE  \\\n",
       "0               55.877803                -3.648558   \n",
       "1               55.877803                -3.648558   \n",
       "2               55.877803                -3.648558   \n",
       "3               55.877803                -3.648558   \n",
       "4               51.398851                -1.231993   \n",
       "\n",
       "  FIRST_COLLECTION_SCHEDULE_EARLIEST FIRST_COLLECTION_SCHEDULE_LATEST  \\\n",
       "0           2023-10-06T09:45:00.000Z         2023-10-06T10:00:00.000Z   \n",
       "1           2023-10-06T09:45:00.000Z         2023-10-06T10:00:00.000Z   \n",
       "2           2023-10-06T09:45:00.000Z         2023-10-06T10:00:00.000Z   \n",
       "3           2023-10-06T09:45:00.000Z         2023-10-06T10:00:00.000Z   \n",
       "4           2023-12-19T14:20:00.000Z         2023-12-19T16:00:00.000Z   \n",
       "\n",
       "  LAST_DELIVERY_SCHEDULE_EARLIEST LAST_DELIVERY_SCHEDULE_LATEST        LAT  \\\n",
       "0        2023-10-09T09:55:00.000Z     2023-10-09 10:25:00+00:00  52.316349   \n",
       "1        2023-10-09T09:55:00.000Z     2023-10-09 10:25:00+00:00  52.316602   \n",
       "2        2023-10-09T09:55:00.000Z     2023-10-09 10:25:00+00:00  52.316440   \n",
       "3        2023-10-09T09:55:00.000Z     2023-10-09 10:25:00+00:00  52.316544   \n",
       "4        2023-12-20T06:00:00.000Z     2023-12-20 08:56:00+00:00  53.763753   \n",
       "\n",
       "        LON          RECORD_TIMESTAMP  \n",
       "0 -0.156690 2023-10-06 08:58:00+00:00  \n",
       "1 -0.157301 2023-10-06 09:03:00+00:00  \n",
       "2 -0.157995 2023-10-06 09:05:00+00:00  \n",
       "3 -0.157263 2023-10-06 09:24:00+00:00  \n",
       "4 -1.739292 2023-12-19 15:47:00+00:00  "
      ]
     },
     "execution_count": 183,
     "metadata": {},
     "output_type": "execute_result"
    }
   ],
   "source": [
    "# Merge gps_data with bookings\n",
    "merged_data = pd.merge(bookings, gps_data, on='SHIPMENT_NUMBER', how='left')\n",
    "\n",
    "# Verify the merge\n",
    "merged_data.head()"
   ]
  },
  {
   "cell_type": "code",
   "execution_count": 184,
   "metadata": {},
   "outputs": [
    {
     "name": "stdout",
     "output_type": "stream",
     "text": [
      "                             PROJECT_ID       SHIPMENT_NUMBER  \\\n",
      "0  5456fcfa-5b0c-428e-b322-240d508b6660  SEZHUK-231005-250448   \n",
      "1  5456fcfa-5b0c-428e-b322-240d508b6660  SEZHUK-231005-250448   \n",
      "2  5456fcfa-5b0c-428e-b322-240d508b6660  SEZHUK-231005-250448   \n",
      "3  5456fcfa-5b0c-428e-b322-240d508b6660  SEZHUK-231005-250448   \n",
      "4  eb7a9df0-4875-43d8-9060-c79c35eae2fb  SEZHUK-231217-275004   \n",
      "\n",
      "  CARRIER_DISPLAY_ID  VEHICLE_SIZE            VEHICLE_BUILD_UP  \\\n",
      "0         CAUK000096  Tractor Unit  Curtain-Side 13.6M Trailer   \n",
      "1         CAUK000096  Tractor Unit  Curtain-Side 13.6M Trailer   \n",
      "2         CAUK000096  Tractor Unit  Curtain-Side 13.6M Trailer   \n",
      "3         CAUK000096  Tractor Unit  Curtain-Side 13.6M Trailer   \n",
      "4         CAUK000660  Tractor Unit                    Box 44ft   \n",
      "\n",
      "  FIRST_COLLECTION_POST_CODE LAST_DELIVERY_POST_CODE  \\\n",
      "0                   PE29 2XR                EH48 2FB   \n",
      "1                   PE29 2XR                EH48 2FB   \n",
      "2                   PE29 2XR                EH48 2FB   \n",
      "3                   PE29 2XR                EH48 2FB   \n",
      "4                    BD5 8LZ                RG19 4BQ   \n",
      "\n",
      "   FIRST_COLLECTION_LATITUDE  FIRST_COLLECTION_LONGITUDE  \\\n",
      "0                  52.315672                   -0.157664   \n",
      "1                  52.315672                   -0.157664   \n",
      "2                  52.315672                   -0.157664   \n",
      "3                  52.315672                   -0.157664   \n",
      "4                  53.764125                   -1.740145   \n",
      "\n",
      "   LAST_DELIVERY_LATITUDE  LAST_DELIVERY_LONGITUDE  \\\n",
      "0               55.877803                -3.648558   \n",
      "1               55.877803                -3.648558   \n",
      "2               55.877803                -3.648558   \n",
      "3               55.877803                -3.648558   \n",
      "4               51.398851                -1.231993   \n",
      "\n",
      "  FIRST_COLLECTION_SCHEDULE_EARLIEST FIRST_COLLECTION_SCHEDULE_LATEST  \\\n",
      "0           2023-10-06T09:45:00.000Z         2023-10-06T10:00:00.000Z   \n",
      "1           2023-10-06T09:45:00.000Z         2023-10-06T10:00:00.000Z   \n",
      "2           2023-10-06T09:45:00.000Z         2023-10-06T10:00:00.000Z   \n",
      "3           2023-10-06T09:45:00.000Z         2023-10-06T10:00:00.000Z   \n",
      "4           2023-12-19T14:20:00.000Z         2023-12-19T16:00:00.000Z   \n",
      "\n",
      "  LAST_DELIVERY_SCHEDULE_EARLIEST LAST_DELIVERY_SCHEDULE_LATEST        LAT  \\\n",
      "0        2023-10-09T09:55:00.000Z     2023-10-09 10:25:00+00:00  52.316349   \n",
      "1        2023-10-09T09:55:00.000Z     2023-10-09 10:25:00+00:00  52.316602   \n",
      "2        2023-10-09T09:55:00.000Z     2023-10-09 10:25:00+00:00  52.316440   \n",
      "3        2023-10-09T09:55:00.000Z     2023-10-09 10:25:00+00:00  52.316544   \n",
      "4        2023-12-20T06:00:00.000Z     2023-12-20 08:56:00+00:00  53.763753   \n",
      "\n",
      "        LON          RECORD_TIMESTAMP  \n",
      "0 -0.156690 2023-10-06 08:58:00+00:00  \n",
      "1 -0.157301 2023-10-06 09:03:00+00:00  \n",
      "2 -0.157995 2023-10-06 09:05:00+00:00  \n",
      "3 -0.157263 2023-10-06 09:24:00+00:00  \n",
      "4 -1.739292 2023-12-19 15:47:00+00:00  \n"
     ]
    }
   ],
   "source": [
    "# Define the specific time period for filtering\n",
    "start_date = datetime(2023, 10, 1, tzinfo=pd.Timestamp.utcnow().tzinfo)\n",
    "end_date = datetime(2023, 12, 31, tzinfo=pd.Timestamp.utcnow().tzinfo)\n",
    "\n",
    "# Filter for the specified period\n",
    "date_filter = (merged_data['RECORD_TIMESTAMP'] >= start_date) & \\\n",
    "              (merged_data['RECORD_TIMESTAMP'] <= end_date)\n",
    "period_data = merged_data[date_filter]\n",
    "\n",
    "# Check the filtered data\n",
    "print(period_data.head())"
   ]
  },
  {
   "cell_type": "code",
   "execution_count": 185,
   "metadata": {},
   "outputs": [
    {
     "name": "stdout",
     "output_type": "stream",
     "text": [
      "Percentage of on-time deliveries: 75.20%\n"
     ]
    }
   ],
   "source": [
    "def is_on_time(delivery_time, scheduled_time):\n",
    "    return delivery_time <= scheduled_time + pd.Timedelta(minutes=30)\n",
    "# Apply the function to calculate on-time delivery status\n",
    "period_data['ON_TIME_DELIVERY'] = period_data.apply(\n",
    "    lambda row: is_on_time(row['RECORD_TIMESTAMP'], row['LAST_DELIVERY_SCHEDULE_LATEST']), axis=1)\n",
    "\n",
    "# Calculate the percentage of on-time deliveries\n",
    "on_time_percentage = period_data['ON_TIME_DELIVERY'].mean() * 100\n",
    "print(f\"Percentage of on-time deliveries: {on_time_percentage:.2f}%\")"
   ]
  },
  {
   "cell_type": "code",
   "execution_count": 186,
   "metadata": {},
   "outputs": [
    {
     "name": "stdout",
     "output_type": "stream",
     "text": [
      "Shipments with potential delays:\n",
      "             SHIPMENT_NUMBER SHIPPER_ID          RECORD_TIMESTAMP  \\\n",
      "793     SEZHUK-231211-272127        NaN 2023-12-13 16:32:00+00:00   \n",
      "794     SEZHUK-231211-272127        NaN 2023-12-13 16:33:00+00:00   \n",
      "795     SEZHUK-231211-272127        NaN 2023-12-13 16:34:00+00:00   \n",
      "796     SEZHUK-231211-272127        NaN 2023-12-13 16:42:00+00:00   \n",
      "797     SEZHUK-231211-272127        NaN 2023-12-13 16:46:00+00:00   \n",
      "...                      ...        ...                       ...   \n",
      "641190  SEZHUK-231014-253126        NaN 2023-10-15 19:19:00+00:00   \n",
      "641191  SEZHUK-231014-253126        NaN 2023-10-15 19:21:00+00:00   \n",
      "641192  SEZHUK-231014-253126        NaN 2023-10-15 19:23:00+00:00   \n",
      "641193  SEZHUK-231014-253126        NaN 2023-10-15 19:24:00+00:00   \n",
      "641194  SEZHUK-231014-253126        NaN 2023-10-15 19:26:00+00:00   \n",
      "\n",
      "       LAST_DELIVERY_SCHEDULE_LATEST DELAY_NOTIFICATION  \n",
      "793        2023-12-13 16:00:00+00:00             Notify  \n",
      "794        2023-12-13 16:00:00+00:00             Notify  \n",
      "795        2023-12-13 16:00:00+00:00             Notify  \n",
      "796        2023-12-13 16:00:00+00:00             Notify  \n",
      "797        2023-12-13 16:00:00+00:00             Notify  \n",
      "...                              ...                ...  \n",
      "641190     2023-10-15 17:03:01+00:00             Notify  \n",
      "641191     2023-10-15 17:03:01+00:00             Notify  \n",
      "641192     2023-10-15 17:03:01+00:00             Notify  \n",
      "641193     2023-10-15 17:03:01+00:00             Notify  \n",
      "641194     2023-10-15 17:03:01+00:00             Notify  \n",
      "\n",
      "[159135 rows x 5 columns]\n"
     ]
    }
   ],
   "source": [
    "# Since 'SHIPPER_ID' is in 'new_bookings', let's merge this info into 'period_data'\n",
    "# Ensure that 'SHIPMENT_NUMBER' is a common key across datasets if we are to merge based on it\n",
    "period_data = period_data.merge(new_bookings[['SHIPMENT_NUMBER', 'SHIPPER_ID']], on='SHIPMENT_NUMBER', how='left')\n",
    "\n",
    "# Define the function to check for potential delays\n",
    "def check_delay(row):\n",
    "    if row['RECORD_TIMESTAMP'] > row['LAST_DELIVERY_SCHEDULE_LATEST'] + pd.Timedelta(minutes=30):\n",
    "        return \"Notify\"\n",
    "    return \"No Action Needed\"\n",
    "\n",
    "# Apply the function to identify delays with 'SHIPPER_ID' included\n",
    "period_data['DELAY_NOTIFICATION'] = period_data.apply(check_delay, axis=1)\n",
    "notifications = period_data[period_data['DELAY_NOTIFICATION'] == \"Notify\"]\n",
    "\n",
    "# Display potential delay notifications\n",
    "if not notifications.empty:\n",
    "    print(\"Shipments with potential delays:\")\n",
    "    print(notifications[['SHIPMENT_NUMBER', 'SHIPPER_ID', 'RECORD_TIMESTAMP', 'LAST_DELIVERY_SCHEDULE_LATEST', 'DELAY_NOTIFICATION']])\n",
    "else:\n",
    "    print(\"No potential delays detected within the specified period.\")"
   ]
  },
  {
   "cell_type": "code",
   "execution_count": 187,
   "metadata": {},
   "outputs": [
    {
     "name": "stdout",
     "output_type": "stream",
     "text": [
      "No potential delays detected within the specified period, no graph to display.\n"
     ]
    }
   ],
   "source": [
    "# Prepare the data for plotting\n",
    "delay_counts = notifications['SHIPPER_ID'].value_counts()\n",
    "\n",
    "if delay_counts.empty:\n",
    "    print(\"No potential delays detected within the specified period, no graph to display.\")\n",
    "else:\n",
    "    # Set up the matplotlib figure\n",
    "    plt.figure(figsize=(12, 8))\n",
    "    sns.barplot(x=delay_counts.index, y=delay_counts.values, palette='viridis')\n",
    "\n",
    "    # Add some visual enhancements and labels\n",
    "    plt.title('Number of Delayed Shipments by Shipper', fontsize=16)\n",
    "    plt.xlabel('Shipper ID', fontsize=14)\n",
    "    plt.ylabel('Number of Delays', fontsize=14)\n",
    "    plt.xticks(rotation=45)  # Rotate labels for better readability if needed\n",
    "    plt.grid(True, which='both', linestyle='--', linewidth=0.5)  # Add grid for easier analysis\n",
    "\n",
    "    # Show the plot\n",
    "    plt.show()"
   ]
  },
  {
   "cell_type": "code",
   "execution_count": null,
   "metadata": {},
   "outputs": [],
   "source": []
  },
  {
   "cell_type": "code",
   "execution_count": 188,
   "metadata": {},
   "outputs": [],
   "source": [
    "def test_vehicle_size_exists():\n",
    "    assert 'VEHICLE_SIZE' in new_bookings.columns, \"Error: 'VEHICLE_SIZE' not found in the provided DataFrame.\""
   ]
  },
  {
   "cell_type": "code",
   "execution_count": 189,
   "metadata": {},
   "outputs": [],
   "source": [
    "def test_best_parameters():\n",
    "    expected_params = {'classifier__n_estimators': 100, 'classifier__learning_rate': 0.05, 'classifier__max_depth': 3}\n",
    " "
   ]
  },
  {
   "cell_type": "code",
   "execution_count": 190,
   "metadata": {},
   "outputs": [],
   "source": [
    "def test_classification_report():\n",
    "    expected_report = \"\"\"\n",
    "                     precision    recall  f1-score   support\n",
    "\n",
    "               0       0.50      0.50      0.50       500\n",
    "               1       0.50      0.50      0.50       500\n",
    "\n",
    "            accuracy                           0.50      1000\n",
    "           macro avg       0.50      0.50      0.50      1000\n",
    "        weighted avg       0.50      0.50      0.50      1000\n",
    "    \"\"\"\n",
    "    y_pred = grid_search.predict(features)  # Replace 'features' with the correct variable name\n",
    "    report = classification_report(labels, y_pred)  # Replace 'labels' with the correct variable name\n",
    "    assert report == expected_report, f\"Expected classification report:\\n{expected_report}\\nbut got:\\n{report}\""
   ]
  },
  {
   "cell_type": "code",
   "execution_count": 191,
   "metadata": {},
   "outputs": [],
   "source": [
    "from sklearn.metrics import roc_curve\n",
    "import numpy as np\n",
    "\n",
    "# Assuming you have true and predicted values\n",
    "y_true = np.array([0, 1, 0, 1, 1, 0, 1, 1, 0, 0])\n",
    "y_pred = np.array([0, 0, 0, 1, 1, 0, 1, 1, 1, 0])\n",
    "\n",
    "# Calculate the false positive rate (FPR) and true positive rate (TPR)\n",
    "fpr, tpr, _ = roc_curve(y_true, y_pred)"
   ]
  },
  {
   "cell_type": "code",
   "execution_count": 192,
   "metadata": {},
   "outputs": [],
   "source": [
    "def test_feature_importances():\n",
    "    expected_importances = {'VEHICLE_SIZE': 0.5, 'HOUR_OF_DAY': 0.5}  # Example values, replace with actual values\n",
    "    feature_importances = grid_search.best_estimator_['classifier'].feature_importances_\n",
    "    feature_names = grid_search.best_estimator_['preprocess'].transformers_[0][1].get_feature_names_out().tolist() + ['HOUR_OF_DAY']\n",
    "    feature_importances_dict = dict(zip(feature_names, feature_importances))\n",
    "    assert feature_importances_dict == expected_importances, f\"Expected feature importances: {expected_importances}, but got: {feature_importances_dict}\""
   ]
  },
  {
   "cell_type": "code",
   "execution_count": 193,
   "metadata": {},
   "outputs": [
    {
     "data": {
      "image/png": "[encoded data removed]",
      "text/plain": [
       "<Figure size 640x480 with 1 Axes>"
      ]
     },
     "metadata": {},
     "output_type": "display_data"
    }
   ],
   "source": [
    "import matplotlib.pyplot as plt\n",
    "\n",
    "# Data for the pie chart\n",
    "labels = ['Python', 'JavaScript', 'Java', 'C++', 'Ruby']\n",
    "sizes = [25, 20, 15, 10, 10]\n",
    "\n",
    "# Create the pie chart\n",
    "plt.pie(sizes, labels=labels, autopct='%1.1f%%')\n",
    "\n",
    "# Add a title and legend\n",
    "plt.title('Programming Language Usage')\n",
    "plt.legend()\n",
    "\n",
    "# Display the chart\n",
    "plt.show()"
   ]
  },
  {
   "cell_type": "code",
   "execution_count": 194,
   "metadata": {},
   "outputs": [
    {
     "data": {
      "image/png": "[encoded data removed]",
      "text/plain": [
       "<Figure size 640x480 with 1 Axes>"
      ]
     },
     "metadata": {},
     "output_type": "display_data"
    }
   ],
   "source": [
    "import matplotlib.pyplot as plt\n",
    "import numpy as np\n",
    "\n",
    "# Generate random data for the histogram\n",
    "np.random.seed(0)\n",
    "data = np.random.normal(loc=0, scale=1, size=1000)\n",
    "\n",
    "# Create the histogram\n",
    "plt.hist(data, bins=30, density=True, color='blue', alpha=0.5)\n",
    "\n",
    "# Add labels and title\n",
    "plt.xlabel('Value')\n",
    "plt.ylabel('Probability')\n",
    "plt.title('Histogram of Random Data')\n",
    "\n",
    "# Display the histogram\n",
    "plt.show()"
   ]
  },
  {
   "cell_type": "code",
   "execution_count": 195,
   "metadata": {},
   "outputs": [
    {
     "name": "stdout",
     "output_type": "stream",
     "text": [
      "'grid_search' is not defined.\n",
      "'grid_search' is not defined.\n"
     ]
    }
   ],
   "source": [
    "# Assuming 'grid_search' is defined and contains the grid search result\n",
    "\n",
    "# Check if 'grid_search' is defined\n",
    "if 'grid_search' in locals():\n",
    "    # Check if 'best_estimator_' attribute exists\n",
    "    if hasattr(grid_search, 'best_estimator_'):\n",
    "        # Check if 'best_estimator_' has a 'preprocess' attribute\n",
    "        if 'preprocess' in grid_search.best_estimator_.keys():\n",
    "            # Access the 'preprocess' attribute\n",
    "            best_preprocess = grid_search.best_estimator_['preprocess']\n",
    "        else:\n",
    "            print(\"'best_estimator_' does not have a 'preprocess' attribute.\")\n",
    "    else:\n",
    "        print(\"'GridSearchCV' object does not have an attribute named 'best_estimator_'.\")\n",
    "else:\n",
    "    print(\"'grid_search' is not defined.\")\n",
    "if 'grid_search' in locals():\n",
    "    # Check if 'best_estimator_' attribute exists\n",
    "    if hasattr(grid_search, 'best_estimator_'):\n",
    "        # Check if 'best_estimator_' has a 'preprocess' attribute\n",
    "        if 'preprocess' in grid_search.best_estimator_.keys():\n",
    "            # Access the 'preprocess' attribute\n",
    "            best_preprocess = grid_search.best_estimator_['preprocess']\n",
    "        else:\n",
    "            print(\"'best_estimator_' does not have a 'preprocess' attribute.\")\n",
    "    else:\n",
    "        print(\"'GridSearchCV' object does not have an attribute named 'best_estimator_'.\")\n",
    "else:\n",
    "    print(\"'grid_search' is not defined.\")"
   ]
  },
  {
   "cell_type": "code",
   "execution_count": 196,
   "metadata": {},
   "outputs": [
    {
     "data": {
      "image/png": "[encoded data removed]",
      "text/plain": [
       "<Figure size 640x480 with 1 Axes>"
      ]
     },
     "metadata": {},
     "output_type": "display_data"
    }
   ],
   "source": [
    "import numpy as np\n",
    "import matplotlib.pyplot as plt\n",
    "\n",
    "# Assuming you have a confusion matrix named 'cm'\n",
    "cm = np.array([[98, 2], [10, 80]])  # Example confusion matrix\n",
    "\n",
    "# Calculate true positive (TP), false positive (FP), true negative (TN), and false negative (FN)\n",
    "TP = cm[1, 1]\n",
    "FP = cm[0, 1]\n",
    "TN = cm[0, 0]\n",
    "FN = cm[1, 0]\n",
    "\n",
    "# Create a list of labels for the histogram\n",
    "labels = ['True Positive', 'False Positive', 'True Negative', 'False Negative']\n",
    "\n",
    "# Create a list of values for the histogram\n",
    "values = [TP, FP, TN, FN]\n",
    "\n",
    "# Create the histogram\n",
    "plt.bar(labels, values)\n",
    "plt.xlabel('Confusion Matrix Elements')\n",
    "plt.ylabel('Count')\n",
    "plt.title('Confusion Matrix Histogram')\n",
    "plt.show()"
   ]
  },
  {
   "cell_type": "code",
   "execution_count": 197,
   "metadata": {},
   "outputs": [
    {
     "data": {
      "image/png": "[encoded data removed]",
      "text/plain": [
       "<Figure size 640x480 with 1 Axes>"
      ]
     },
     "metadata": {},
     "output_type": "display_data"
    },
    {
     "data": {
      "text/plain": [
       "'\\nThe Precision-Recall curve is a plot that illustrates the diagnostic ability of a binary classifier system as its classification threshold is varied.\\nIn this case, the x-axis represents the recall (true positive rate), and the y-axis represents the precision (positive predictive value).\\n\\nThe curve shows the trade-off between precision and recall for different classification thresholds. A high area under the curve (AUC) represents both high recall and high precision, indicating a well-calibrated classifier.\\n\\nIn this example, the precision-recall curve is showing that the classifier is able to identify a significant number of true positives (high recall) with a relatively high level of accuracy (high precision).\\n'"
      ]
     },
     "execution_count": 197,
     "metadata": {},
     "output_type": "execute_result"
    }
   ],
   "source": [
    "import numpy as np\n",
    "import matplotlib.pyplot as plt\n",
    "from sklearn.metrics import precision_recall_curve\n",
    "\n",
    "# Generate random data for demonstration\n",
    "np.random.seed(0)\n",
    "y_true = np.concatenate((np.zeros(500), np.ones(500)))\n",
    "y_scores = np.concatenate((np.random.rand(500), np.random.rand(500) + 0.5))\n",
    "\n",
    "# Calculate precision-recall curve\n",
    "precision, recall, _ = precision_recall_curve(y_true, y_scores)\n",
    "\n",
    "# Plot the precision-recall curve\n",
    "plt.step(recall, precision, color='b', alpha=0.2, where='post')\n",
    "plt.fill_between(recall, precision, step='post', alpha=0.2, color='b')\n",
    "plt.xlabel('Recall')\n",
    "plt.ylabel('Precision')\n",
    "plt.ylim([0.0, 1.05])\n",
    "plt.xlim([0.0, 1.0])\n",
    "plt.title('Precision-Recall Curve')\n",
    "plt.show()\n",
    "\n",
    "# Explanation of the precision-recall curve\n",
    "\"\"\"\n",
    "The Precision-Recall curve is a plot that illustrates the diagnostic ability of a binary classifier system as its classification threshold is varied.\n",
    "In this case, the x-axis represents the recall (true positive rate), and the y-axis represents the precision (positive predictive value).\n",
    "\n",
    "The curve shows the trade-off between precision and recall for different classification thresholds. A high area under the curve (AUC) represents both high recall and high precision, indicating a well-calibrated classifier.\n",
    "\n",
    "In this example, the precision-recall curve is showing that the classifier is able to identify a significant number of true positives (high recall) with a relatively high level of accuracy (high precision).\n",
    "\"\"\""
   ]
  },
  {
   "cell_type": "code",
   "execution_count": null,
   "metadata": {},
   "outputs": [],
   "source": []
  },
  {
   "cell_type": "code",
   "execution_count": 198,
   "metadata": {},
   "outputs": [],
   "source": [
    "def test_vehicle_size_exists():\n",
    "    assert 'VEHICLE_SIZE' in new_bookings.columns, \"Error: 'VEHICLE_SIZE' not found in the provided DataFrame.\"\n",
    "\n",
    "def test_best_parameters():\n",
    "    expected_params = {'classifier__n_estimators': 100, 'classifier__learning_rate': 0.05, 'classifier__max_depth': 3}\n",
    "    assert grid_search.best_params_ == expected_params, f\"Expected best parameters: {expected_params}, but got: {grid_search.best_params_}\"\n",
    "\n",
    "def test_accuracy_score():\n",
    "    accuracy = grid_search.best_score_\n",
    "    assert 0.4 <= accuracy <= 1.0, f\"Accuracy score {accuracy} is not within the expected range of 0.4 to 1.0.\"\n",
    "\n",
    "def test_classification_report():\n",
    "    expected_report = \"\"\"\n",
    "                     precision    recall  f1-score   support\n",
    "\n",
    "               0       0.50      0.50      0.50       500\n",
    "               1       0.50      0.50      0.50       500\n",
    "\n",
    "            accuracy                           0.50      1000\n",
    "           macro avg       0.50      0.50      0.50      1000\n",
    "        weighted avg       0.50      0.50      0.50      1000\n",
    "    \"\"\"\n",
    "    y_pred = grid_search.predict(features)\n",
    "    report = classification_report(labels, y_pred)\n",
    "    assert report == expected_report, f\"Expected classification report:\\n{expected_report}\\nbut got:\\n{report}\"\n",
    "\n",
    "def test_feature_importances():\n",
    "    expected_importances = {'VEHICLE_SIZE': 0.5, 'HOUR_OF_DAY': 0.5}  # Example values, replace with actual values\n",
    "    feature_importances = grid_search.best_estimator_['classifier'].feature_importances_\n",
    "    feature_names = grid_search.best_estimator_['preprocess'].transformers_[0][1].get_feature_names_out().tolist() + ['HOUR_OF_DAY']\n",
    "    feature_importances_dict = dict(zip(feature_names, feature_importances))\n",
    "    assert feature_importances_dict == expected_importances, f\"Expected feature importances: {expected_importances}, but got: {feature_importances_dict}\""
   ]
  },
  {
   "cell_type": "code",
   "execution_count": 199,
   "metadata": {},
   "outputs": [],
   "source": [
    "# This function saves the cleaned DataFrame to a CSV file.\n",
    "#\n",
    "# Parameters:\n",
    "# df (DataFrame): The cleaned DataFrame to be saved.\n",
    "# filename (str): The name of the CSV file to be created.\n",
    "#\n",
    "# Returns:\n",
    "# None\n",
    "def save_cleaned_data(df, filename):\n",
    "    \"\"\"\n",
    "    Save the cleaned DataFrame to a CSV file.\n",
    "\n",
    "    Parameters:\n",
    "    df (DataFrame): The cleaned DataFrame to be saved.\n",
    "    filename (str): The name of the CSV file to be created.\n",
    "\n",
    "    Returns:\n",
    "    None\n",
    "    \"\"\"\n",
    "    df.to_csv(filename, index=False)"
   ]
  },
  {
   "cell_type": "code",
   "execution_count": 200,
   "metadata": {},
   "outputs": [
    {
     "ename": "KeyError",
     "evalue": "\"['DELAY'] not found in axis\"",
     "output_type": "error",
     "traceback": [
      "\u001b[0;31m---------------------------------------------------------------------------\u001b[0m",
      "\u001b[0;31mKeyError\u001b[0m                                  Traceback (most recent call last)",
      "Cell \u001b[0;32mIn[200], line 16\u001b[0m\n\u001b[1;32m     10\u001b[0m gps_data \u001b[39m=\u001b[39m pd\u001b[39m.\u001b[39mread_csv(\u001b[39m'\u001b[39m\u001b[39mgps_data.csv\u001b[39m\u001b[39m'\u001b[39m)\n\u001b[1;32m     12\u001b[0m \u001b[39m# Preprocess the data\u001b[39;00m\n\u001b[1;32m     13\u001b[0m \u001b[39m#...\u001b[39;00m\n\u001b[1;32m     14\u001b[0m \n\u001b[1;32m     15\u001b[0m \u001b[39m# Split the data into features and labels\u001b[39;00m\n\u001b[0;32m---> 16\u001b[0m features \u001b[39m=\u001b[39m gps_data\u001b[39m.\u001b[39mdrop(\u001b[39m'\u001b[39m\u001b[39mDELAY\u001b[39m\u001b[39m'\u001b[39m, axis\u001b[39m=\u001b[39m\u001b[39m1\u001b[39m)\n\u001b[1;32m     17\u001b[0m labels \u001b[39m=\u001b[39m gps_data[\u001b[39m'\u001b[39m\u001b[39mDELAY\u001b[39m\u001b[39m'\u001b[39m]\n\u001b[1;32m     19\u001b[0m \u001b[39m# Split the data into training and testing sets\u001b[39;00m\n",
      "File \u001b[0;32m~/anaconda3/lib/python3.11/site-packages/pandas/util/_decorators.py:331\u001b[0m, in \u001b[0;36mdeprecate_nonkeyword_arguments.<locals>.decorate.<locals>.wrapper\u001b[0;34m(*args, **kwargs)\u001b[0m\n\u001b[1;32m    325\u001b[0m \u001b[39mif\u001b[39;00m \u001b[39mlen\u001b[39m(args) \u001b[39m>\u001b[39m num_allow_args:\n\u001b[1;32m    326\u001b[0m     warnings\u001b[39m.\u001b[39mwarn(\n\u001b[1;32m    327\u001b[0m         msg\u001b[39m.\u001b[39mformat(arguments\u001b[39m=\u001b[39m_format_argument_list(allow_args)),\n\u001b[1;32m    328\u001b[0m         \u001b[39mFutureWarning\u001b[39;00m,\n\u001b[1;32m    329\u001b[0m         stacklevel\u001b[39m=\u001b[39mfind_stack_level(),\n\u001b[1;32m    330\u001b[0m     )\n\u001b[0;32m--> 331\u001b[0m \u001b[39mreturn\u001b[39;00m func(\u001b[39m*\u001b[39margs, \u001b[39m*\u001b[39m\u001b[39m*\u001b[39mkwargs)\n",
      "File \u001b[0;32m~/anaconda3/lib/python3.11/site-packages/pandas/core/frame.py:5399\u001b[0m, in \u001b[0;36mDataFrame.drop\u001b[0;34m(self, labels, axis, index, columns, level, inplace, errors)\u001b[0m\n\u001b[1;32m   5251\u001b[0m \u001b[39m@deprecate_nonkeyword_arguments\u001b[39m(version\u001b[39m=\u001b[39m\u001b[39mNone\u001b[39;00m, allowed_args\u001b[39m=\u001b[39m[\u001b[39m\"\u001b[39m\u001b[39mself\u001b[39m\u001b[39m\"\u001b[39m, \u001b[39m\"\u001b[39m\u001b[39mlabels\u001b[39m\u001b[39m\"\u001b[39m])\n\u001b[1;32m   5252\u001b[0m \u001b[39mdef\u001b[39;00m \u001b[39mdrop\u001b[39m(  \u001b[39m# type: ignore[override]\u001b[39;00m\n\u001b[1;32m   5253\u001b[0m     \u001b[39mself\u001b[39m,\n\u001b[0;32m   (...)\u001b[0m\n\u001b[1;32m   5260\u001b[0m     errors: IgnoreRaise \u001b[39m=\u001b[39m \u001b[39m\"\u001b[39m\u001b[39mraise\u001b[39m\u001b[39m\"\u001b[39m,\n\u001b[1;32m   5261\u001b[0m ) \u001b[39m-\u001b[39m\u001b[39m>\u001b[39m DataFrame \u001b[39m|\u001b[39m \u001b[39mNone\u001b[39;00m:\n\u001b[1;32m   5262\u001b[0m \u001b[39m    \u001b[39m\u001b[39m\"\"\"\u001b[39;00m\n\u001b[1;32m   5263\u001b[0m \u001b[39m    Drop specified labels from rows or columns.\u001b[39;00m\n\u001b[1;32m   5264\u001b[0m \n\u001b[0;32m   (...)\u001b[0m\n\u001b[1;32m   5397\u001b[0m \u001b[39m            weight  1.0     0.8\u001b[39;00m\n\u001b[1;32m   5398\u001b[0m \u001b[39m    \"\"\"\u001b[39;00m\n\u001b[0;32m-> 5399\u001b[0m     \u001b[39mreturn\u001b[39;00m \u001b[39msuper\u001b[39m()\u001b[39m.\u001b[39mdrop(\n\u001b[1;32m   5400\u001b[0m         labels\u001b[39m=\u001b[39mlabels,\n\u001b[1;32m   5401\u001b[0m         axis\u001b[39m=\u001b[39maxis,\n\u001b[1;32m   5402\u001b[0m         index\u001b[39m=\u001b[39mindex,\n\u001b[1;32m   5403\u001b[0m         columns\u001b[39m=\u001b[39mcolumns,\n\u001b[1;32m   5404\u001b[0m         level\u001b[39m=\u001b[39mlevel,\n\u001b[1;32m   5405\u001b[0m         inplace\u001b[39m=\u001b[39minplace,\n\u001b[1;32m   5406\u001b[0m         errors\u001b[39m=\u001b[39merrors,\n\u001b[1;32m   5407\u001b[0m     )\n",
      "File \u001b[0;32m~/anaconda3/lib/python3.11/site-packages/pandas/util/_decorators.py:331\u001b[0m, in \u001b[0;36mdeprecate_nonkeyword_arguments.<locals>.decorate.<locals>.wrapper\u001b[0;34m(*args, **kwargs)\u001b[0m\n\u001b[1;32m    325\u001b[0m \u001b[39mif\u001b[39;00m \u001b[39mlen\u001b[39m(args) \u001b[39m>\u001b[39m num_allow_args:\n\u001b[1;32m    326\u001b[0m     warnings\u001b[39m.\u001b[39mwarn(\n\u001b[1;32m    327\u001b[0m         msg\u001b[39m.\u001b[39mformat(arguments\u001b[39m=\u001b[39m_format_argument_list(allow_args)),\n\u001b[1;32m    328\u001b[0m         \u001b[39mFutureWarning\u001b[39;00m,\n\u001b[1;32m    329\u001b[0m         stacklevel\u001b[39m=\u001b[39mfind_stack_level(),\n\u001b[1;32m    330\u001b[0m     )\n\u001b[0;32m--> 331\u001b[0m \u001b[39mreturn\u001b[39;00m func(\u001b[39m*\u001b[39margs, \u001b[39m*\u001b[39m\u001b[39m*\u001b[39mkwargs)\n",
      "File \u001b[0;32m~/anaconda3/lib/python3.11/site-packages/pandas/core/generic.py:4505\u001b[0m, in \u001b[0;36mNDFrame.drop\u001b[0;34m(self, labels, axis, index, columns, level, inplace, errors)\u001b[0m\n\u001b[1;32m   4503\u001b[0m \u001b[39mfor\u001b[39;00m axis, labels \u001b[39min\u001b[39;00m axes\u001b[39m.\u001b[39mitems():\n\u001b[1;32m   4504\u001b[0m     \u001b[39mif\u001b[39;00m labels \u001b[39mis\u001b[39;00m \u001b[39mnot\u001b[39;00m \u001b[39mNone\u001b[39;00m:\n\u001b[0;32m-> 4505\u001b[0m         obj \u001b[39m=\u001b[39m obj\u001b[39m.\u001b[39m_drop_axis(labels, axis, level\u001b[39m=\u001b[39mlevel, errors\u001b[39m=\u001b[39merrors)\n\u001b[1;32m   4507\u001b[0m \u001b[39mif\u001b[39;00m inplace:\n\u001b[1;32m   4508\u001b[0m     \u001b[39mself\u001b[39m\u001b[39m.\u001b[39m_update_inplace(obj)\n",
      "File \u001b[0;32m~/anaconda3/lib/python3.11/site-packages/pandas/core/generic.py:4546\u001b[0m, in \u001b[0;36mNDFrame._drop_axis\u001b[0;34m(self, labels, axis, level, errors, only_slice)\u001b[0m\n\u001b[1;32m   4544\u001b[0m         new_axis \u001b[39m=\u001b[39m axis\u001b[39m.\u001b[39mdrop(labels, level\u001b[39m=\u001b[39mlevel, errors\u001b[39m=\u001b[39merrors)\n\u001b[1;32m   4545\u001b[0m     \u001b[39melse\u001b[39;00m:\n\u001b[0;32m-> 4546\u001b[0m         new_axis \u001b[39m=\u001b[39m axis\u001b[39m.\u001b[39mdrop(labels, errors\u001b[39m=\u001b[39merrors)\n\u001b[1;32m   4547\u001b[0m     indexer \u001b[39m=\u001b[39m axis\u001b[39m.\u001b[39mget_indexer(new_axis)\n\u001b[1;32m   4549\u001b[0m \u001b[39m# Case for non-unique axis\u001b[39;00m\n\u001b[1;32m   4550\u001b[0m \u001b[39melse\u001b[39;00m:\n",
      "File \u001b[0;32m~/anaconda3/lib/python3.11/site-packages/pandas/core/indexes/base.py:6934\u001b[0m, in \u001b[0;36mIndex.drop\u001b[0;34m(self, labels, errors)\u001b[0m\n\u001b[1;32m   6932\u001b[0m \u001b[39mif\u001b[39;00m mask\u001b[39m.\u001b[39many():\n\u001b[1;32m   6933\u001b[0m     \u001b[39mif\u001b[39;00m errors \u001b[39m!=\u001b[39m \u001b[39m\"\u001b[39m\u001b[39mignore\u001b[39m\u001b[39m\"\u001b[39m:\n\u001b[0;32m-> 6934\u001b[0m         \u001b[39mraise\u001b[39;00m \u001b[39mKeyError\u001b[39;00m(\u001b[39mf\u001b[39m\u001b[39m\"\u001b[39m\u001b[39m{\u001b[39;00m\u001b[39mlist\u001b[39m(labels[mask])\u001b[39m}\u001b[39;00m\u001b[39m not found in axis\u001b[39m\u001b[39m\"\u001b[39m)\n\u001b[1;32m   6935\u001b[0m     indexer \u001b[39m=\u001b[39m indexer[\u001b[39m~\u001b[39mmask]\n\u001b[1;32m   6936\u001b[0m \u001b[39mreturn\u001b[39;00m \u001b[39mself\u001b[39m\u001b[39m.\u001b[39mdelete(indexer)\n",
      "\u001b[0;31mKeyError\u001b[0m: \"['DELAY'] not found in axis\""
     ]
    }
   ],
   "source": [
    "import pandas as pd\n",
    "from sklearn.model_selection import train_test_split, GridSearchCV\n",
    "from sklearn.ensemble import GradientBoostingClassifier\n",
    "from sklearn.preprocessing import OneHotEncoder, StandardScaler\n",
    "from sklearn.compose import ColumnTransformer\n",
    "from sklearn.pipeline import Pipeline\n",
    "from sklearn.metrics import accuracy_score, classification_report, confusion_matrix, precision_recall_curve, roc_auc_score\n",
    "\n",
    "# Load the data\n",
    "gps_data = pd.read_csv('gps_data.csv')\n",
    "\n",
    "# Preprocess the data\n",
    "#...\n",
    "\n",
    "# Split the data into features and labels\n",
    "features = gps_data.drop('DELAY', axis=1)\n",
    "labels = gps_data['DELAY']\n",
    "\n",
    "# Split the data into training and testing sets\n",
    "X_train, X_test, y_train, y_test = train_test_split(features, labels, test_size=0.2, random_state=42)\n",
    "\n",
    "# Define the preprocessing steps\n",
    "categorical_features = ['VEHICLE_SIZE', 'HOUR_OF_DAY']\n",
    "numerical_features = ['DISTANCE']\n",
    "\n",
    "categorical_transformer = Pipeline(steps=[\n",
    "    ('onehot', OneHotEncoder(handle_unknown='ignore'))\n",
    "])\n",
    "\n",
    "numerical_transformer = Pipeline(steps=[\n",
    "    ('scaler', StandardScaler())\n",
    "])\n",
    "\n",
    "preprocessor = ColumnTransformer(\n",
    "    transformers=[\n",
    "        ('cat', categorical_transformer, categorical_features),\n",
    "        ('num', numerical_transformer, numerical_features)\n",
    "    ]\n",
    ")\n",
    "\n",
    "# Define the model\n",
    "model = GradientBoostingClassifier()\n",
    "\n",
    "# Create the pipeline\n",
    "pipeline = Pipeline(steps=[\n",
    "    ('preprocess', preprocessor),\n",
    "    ('classifier', model)\n",
    "])\n",
    "\n",
    "# Define the hyperparameters to search\n",
    "param_grid = {\n",
    "    'classifier__n_estimators': [100, 200, 300],\n",
    "    'classifier__learning_rate': [0.05, 0.1, 0.2],\n",
    "    'classifier__max_depth': [3, 4, 5]\n",
    "}\n",
    "\n",
    "# Perform grid search\n",
    "grid_search = GridSearchCV(pipeline, param_grid, cv=5, scoring='accuracy')\n",
    "grid_search.fit(X_train, y_train)\n",
    "\n",
    "# Evaluate the model\n",
    "y_pred = grid_search.predict(X_test)\n",
    "accuracy = accuracy_score(y_test, y_pred)\n",
    "classification_report_str = classification_report(y_test, y_pred)\n",
    "confusion_matrix_str = confusion_matrix(y_test, y_pred)\n",
    "\n",
    "# Print the evaluation results\n",
    "print(f\"Accuracy: {accuracy}\")\n",
    "print(f\"Classification Report:\\n{classification_report_str}\")\n",
    "print(f\"Confusion Matrix:\\n{confusion_matrix_str}\")\n",
    "\n",
    "# Save the cleaned data to a CSV file\n",
    "save_cleaned_data(gps_data, 'cleaned_gps_data.csv')"
   ]
  },
  {
   "cell_type": "code",
   "execution_count": null,
   "metadata": {},
   "outputs": [
    {
     "name": "stderr",
     "output_type": "stream",
     "text": [
      "/var/folders/hn/ngps517528b83pfth0qdjgg00000gn/T/ipykernel_9666/343457778.py:10: FutureWarning: The default value of numeric_only in DataFrame.mean is deprecated. In a future version, it will default to False. In addition, specifying 'numeric_only=None' is deprecated. Select only valid columns or specify the value of numeric_only to silence this warning.\n",
      "  gps_data = gps_data.fillna(gps_data.mean())\n"
     ]
    }
   ],
   "source": [
    "import pandas as pd\n",
    "\n",
    "# Load the data\n",
    "gps_data = pd.read_csv('gps_data.csv')\n",
    "\n",
    "# Check for missing values\n",
    "missing_values = gps_data.isnull().sum()\n",
    "\n",
    "# Handle missing values using mean imputation\n",
    "gps_data = gps_data.fillna(gps_data.mean())\n",
    "\n",
    "# Check for missing values again to confirm that they have been handled\n",
    "missing_values_after_imputation = gps_data.isnull().sum()"
   ]
  },
  {
   "cell_type": "code",
   "execution_count": null,
   "metadata": {},
   "outputs": [],
   "source": [
    "from sklearn.metrics import classification_report"
   ]
  },
  {
   "cell_type": "code",
   "execution_count": null,
   "metadata": {},
   "outputs": [],
   "source": [
    "from sklearn.metrics import confusion_matrix"
   ]
  },
  {
   "cell_type": "code",
   "execution_count": null,
   "metadata": {},
   "outputs": [],
   "source": [
    "from sklearn.metrics import roc_auc_score"
   ]
  },
  {
   "cell_type": "code",
   "execution_count": null,
   "metadata": {},
   "outputs": [],
   "source": [
    "from sklearn.metrics import precision_recall_curve"
   ]
  },
  {
   "cell_type": "code",
   "execution_count": null,
   "metadata": {},
   "outputs": [],
   "source": [
    "from sklearn.preprocessing import OneHotEncoder"
   ]
  },
  {
   "cell_type": "code",
   "execution_count": null,
   "metadata": {},
   "outputs": [],
   "source": [
    "from sklearn.preprocessing import StandardScaler"
   ]
  },
  {
   "cell_type": "code",
   "execution_count": null,
   "metadata": {},
   "outputs": [],
   "source": [
    "from sklearn.compose import ColumnTransformer"
   ]
  },
  {
   "cell_type": "code",
   "execution_count": null,
   "metadata": {},
   "outputs": [],
   "source": [
    "from sklearn.pipeline import Pipeline"
   ]
  },
  {
   "cell_type": "code",
   "execution_count": null,
   "metadata": {},
   "outputs": [],
   "source": [
    "from sklearn.ensemble import GradientBoostingClassifier"
   ]
  },
  {
   "cell_type": "code",
   "execution_count": null,
   "metadata": {},
   "outputs": [],
   "source": [
    "from sklearn.model_selection import train_test_split"
   ]
  },
  {
   "cell_type": "code",
   "execution_count": null,
   "metadata": {},
   "outputs": [],
   "source": [
    "from sklearn.ensemble import GradientBoostingClassifier\n",
    "from sklearn.ensemble import RandomForestClassifier\n",
    "from sklearn.svm import SVC\n",
    "from sklearn.linear_model import LogisticRegression\n",
    "from sklearn.neighbors import KNeighborsClassifier\n",
    "from sklearn.naive_bayes import GaussianNB\n",
    "\n",
    "# Initialize the models\n",
    "gradient_boosting = GradientBoostingClassifier()\n",
    "random_forest = RandomForestClassifier()\n",
    "support_vector_machine = SVC()\n",
    "logistic_regression = LogisticRegression()\n",
    "k_nearest_neighbors = KNeighborsClassifier()\n",
    "naive_bayes = GaussianNB()\n",
    "\n",
    "# You can now use these models for your project"
   ]
  },
  {
   "cell_type": "code",
   "execution_count": null,
   "metadata": {},
   "outputs": [
    {
     "ename": "ValueError",
     "evalue": "Invalid RGBA argument: 'ed'",
     "output_type": "error",
     "traceback": [
      "\u001b[0;31m---------------------------------------------------------------------------\u001b[0m",
      "\u001b[0;31mValueError\u001b[0m                                Traceback (most recent call last)",
      "Cell \u001b[0;32mIn[50], line 17\u001b[0m\n\u001b[1;32m     14\u001b[0m colors \u001b[39m=\u001b[39m [\u001b[39m'\u001b[39m\u001b[39mgreen\u001b[39m\u001b[39m'\u001b[39m, \u001b[39m'\u001b[39m\u001b[39myellow\u001b[39m\u001b[39m'\u001b[39m, \u001b[39m'\u001b[39m\u001b[39med\u001b[39m\u001b[39m'\u001b[39m]\n\u001b[1;32m     16\u001b[0m \u001b[39m# Create a pie chart to visualize the GPS accuracy levels\u001b[39;00m\n\u001b[0;32m---> 17\u001b[0m plt\u001b[39m.\u001b[39mpie(devices, labels\u001b[39m=\u001b[39mlevels, colors\u001b[39m=\u001b[39mcolors, autopct\u001b[39m=\u001b[39m\u001b[39m'\u001b[39m\u001b[39m%1.1f\u001b[39;00m\u001b[39m%%\u001b[39;00m\u001b[39m'\u001b[39m, startangle\u001b[39m=\u001b[39m\u001b[39m90\u001b[39m)\n\u001b[1;32m     18\u001b[0m plt\u001b[39m.\u001b[39mtitle(\u001b[39m'\u001b[39m\u001b[39mGPS Accuracy Distribution\u001b[39m\u001b[39m'\u001b[39m)\n\u001b[1;32m     19\u001b[0m plt\u001b[39m.\u001b[39mlegend(title\u001b[39m=\u001b[39m\u001b[39m'\u001b[39m\u001b[39mAccuracy Levels\u001b[39m\u001b[39m'\u001b[39m)\n",
      "File \u001b[0;32m~/anaconda3/lib/python3.11/site-packages/matplotlib/pyplot.py:2799\u001b[0m, in \u001b[0;36mpie\u001b[0;34m(x, explode, labels, colors, autopct, pctdistance, shadow, labeldistance, startangle, radius, counterclock, wedgeprops, textprops, center, frame, rotatelabels, normalize, hatch, data)\u001b[0m\n\u001b[1;32m   2792\u001b[0m \u001b[39m@_copy_docstring_and_deprecators\u001b[39m(Axes\u001b[39m.\u001b[39mpie)\n\u001b[1;32m   2793\u001b[0m \u001b[39mdef\u001b[39;00m \u001b[39mpie\u001b[39m(\n\u001b[1;32m   2794\u001b[0m         x, explode\u001b[39m=\u001b[39m\u001b[39mNone\u001b[39;00m, labels\u001b[39m=\u001b[39m\u001b[39mNone\u001b[39;00m, colors\u001b[39m=\u001b[39m\u001b[39mNone\u001b[39;00m, autopct\u001b[39m=\u001b[39m\u001b[39mNone\u001b[39;00m,\n\u001b[0;32m   (...)\u001b[0m\n\u001b[1;32m   2797\u001b[0m         textprops\u001b[39m=\u001b[39m\u001b[39mNone\u001b[39;00m, center\u001b[39m=\u001b[39m(\u001b[39m0\u001b[39m, \u001b[39m0\u001b[39m), frame\u001b[39m=\u001b[39m\u001b[39mFalse\u001b[39;00m,\n\u001b[1;32m   2798\u001b[0m         rotatelabels\u001b[39m=\u001b[39m\u001b[39mFalse\u001b[39;00m, \u001b[39m*\u001b[39m, normalize\u001b[39m=\u001b[39m\u001b[39mTrue\u001b[39;00m, hatch\u001b[39m=\u001b[39m\u001b[39mNone\u001b[39;00m, data\u001b[39m=\u001b[39m\u001b[39mNone\u001b[39;00m):\n\u001b[0;32m-> 2799\u001b[0m     \u001b[39mreturn\u001b[39;00m gca()\u001b[39m.\u001b[39mpie(\n\u001b[1;32m   2800\u001b[0m         x, explode\u001b[39m=\u001b[39mexplode, labels\u001b[39m=\u001b[39mlabels, colors\u001b[39m=\u001b[39mcolors,\n\u001b[1;32m   2801\u001b[0m         autopct\u001b[39m=\u001b[39mautopct, pctdistance\u001b[39m=\u001b[39mpctdistance, shadow\u001b[39m=\u001b[39mshadow,\n\u001b[1;32m   2802\u001b[0m         labeldistance\u001b[39m=\u001b[39mlabeldistance, startangle\u001b[39m=\u001b[39mstartangle,\n\u001b[1;32m   2803\u001b[0m         radius\u001b[39m=\u001b[39mradius, counterclock\u001b[39m=\u001b[39mcounterclock,\n\u001b[1;32m   2804\u001b[0m         wedgeprops\u001b[39m=\u001b[39mwedgeprops, textprops\u001b[39m=\u001b[39mtextprops, center\u001b[39m=\u001b[39mcenter,\n\u001b[1;32m   2805\u001b[0m         frame\u001b[39m=\u001b[39mframe, rotatelabels\u001b[39m=\u001b[39mrotatelabels, normalize\u001b[39m=\u001b[39mnormalize,\n\u001b[1;32m   2806\u001b[0m         hatch\u001b[39m=\u001b[39mhatch, \u001b[39m*\u001b[39m\u001b[39m*\u001b[39m({\u001b[39m\"\u001b[39m\u001b[39mdata\u001b[39m\u001b[39m\"\u001b[39m: data} \u001b[39mif\u001b[39;00m data \u001b[39mis\u001b[39;00m \u001b[39mnot\u001b[39;00m \u001b[39mNone\u001b[39;00m \u001b[39melse\u001b[39;00m {}))\n",
      "File \u001b[0;32m~/anaconda3/lib/python3.11/site-packages/matplotlib/__init__.py:1442\u001b[0m, in \u001b[0;36m_preprocess_data.<locals>.inner\u001b[0;34m(ax, data, *args, **kwargs)\u001b[0m\n\u001b[1;32m   1439\u001b[0m \u001b[39m@functools\u001b[39m\u001b[39m.\u001b[39mwraps(func)\n\u001b[1;32m   1440\u001b[0m \u001b[39mdef\u001b[39;00m \u001b[39minner\u001b[39m(ax, \u001b[39m*\u001b[39margs, data\u001b[39m=\u001b[39m\u001b[39mNone\u001b[39;00m, \u001b[39m*\u001b[39m\u001b[39m*\u001b[39mkwargs):\n\u001b[1;32m   1441\u001b[0m     \u001b[39mif\u001b[39;00m data \u001b[39mis\u001b[39;00m \u001b[39mNone\u001b[39;00m:\n\u001b[0;32m-> 1442\u001b[0m         \u001b[39mreturn\u001b[39;00m func(ax, \u001b[39m*\u001b[39m\u001b[39mmap\u001b[39m(sanitize_sequence, args), \u001b[39m*\u001b[39m\u001b[39m*\u001b[39mkwargs)\n\u001b[1;32m   1444\u001b[0m     bound \u001b[39m=\u001b[39m new_sig\u001b[39m.\u001b[39mbind(ax, \u001b[39m*\u001b[39margs, \u001b[39m*\u001b[39m\u001b[39m*\u001b[39mkwargs)\n\u001b[1;32m   1445\u001b[0m     auto_label \u001b[39m=\u001b[39m (bound\u001b[39m.\u001b[39marguments\u001b[39m.\u001b[39mget(label_namer)\n\u001b[1;32m   1446\u001b[0m                   \u001b[39mor\u001b[39;00m bound\u001b[39m.\u001b[39mkwargs\u001b[39m.\u001b[39mget(label_namer))\n",
      "File \u001b[0;32m~/anaconda3/lib/python3.11/site-packages/matplotlib/axes/_axes.py:3245\u001b[0m, in \u001b[0;36mAxes.pie\u001b[0;34m(self, x, explode, labels, colors, autopct, pctdistance, shadow, labeldistance, startangle, radius, counterclock, wedgeprops, textprops, center, frame, rotatelabels, normalize, hatch)\u001b[0m\n\u001b[1;32m   3242\u001b[0m x \u001b[39m+\u001b[39m\u001b[39m=\u001b[39m expl \u001b[39m*\u001b[39m math\u001b[39m.\u001b[39mcos(thetam)\n\u001b[1;32m   3243\u001b[0m y \u001b[39m+\u001b[39m\u001b[39m=\u001b[39m expl \u001b[39m*\u001b[39m math\u001b[39m.\u001b[39msin(thetam)\n\u001b[0;32m-> 3245\u001b[0m w \u001b[39m=\u001b[39m mpatches\u001b[39m.\u001b[39mWedge((x, y), radius, \u001b[39m360.\u001b[39m \u001b[39m*\u001b[39m \u001b[39mmin\u001b[39m(theta1, theta2),\n\u001b[1;32m   3246\u001b[0m                    \u001b[39m360.\u001b[39m \u001b[39m*\u001b[39m \u001b[39mmax\u001b[39m(theta1, theta2),\n\u001b[1;32m   3247\u001b[0m                    facecolor\u001b[39m=\u001b[39mget_next_color(),\n\u001b[1;32m   3248\u001b[0m                    hatch\u001b[39m=\u001b[39m\u001b[39mnext\u001b[39m(hatch_cycle),\n\u001b[1;32m   3249\u001b[0m                    clip_on\u001b[39m=\u001b[39m\u001b[39mFalse\u001b[39;00m,\n\u001b[1;32m   3250\u001b[0m                    label\u001b[39m=\u001b[39mlabel)\n\u001b[1;32m   3251\u001b[0m w\u001b[39m.\u001b[39mset(\u001b[39m*\u001b[39m\u001b[39m*\u001b[39mwedgeprops)\n\u001b[1;32m   3252\u001b[0m slices\u001b[39m.\u001b[39mappend(w)\n",
      "File \u001b[0;32m~/anaconda3/lib/python3.11/site-packages/matplotlib/_api/deprecation.py:454\u001b[0m, in \u001b[0;36mmake_keyword_only.<locals>.wrapper\u001b[0;34m(*args, **kwargs)\u001b[0m\n\u001b[1;32m    448\u001b[0m \u001b[39mif\u001b[39;00m \u001b[39mlen\u001b[39m(args) \u001b[39m>\u001b[39m name_idx:\n\u001b[1;32m    449\u001b[0m     warn_deprecated(\n\u001b[1;32m    450\u001b[0m         since, message\u001b[39m=\u001b[39m\u001b[39m\"\u001b[39m\u001b[39mPassing the \u001b[39m\u001b[39m%(name)s\u001b[39;00m\u001b[39m \u001b[39m\u001b[39m%(obj_type)s\u001b[39;00m\u001b[39m \u001b[39m\u001b[39m\"\u001b[39m\n\u001b[1;32m    451\u001b[0m         \u001b[39m\"\u001b[39m\u001b[39mpositionally is deprecated since Matplotlib \u001b[39m\u001b[39m%(since)s\u001b[39;00m\u001b[39m; the \u001b[39m\u001b[39m\"\u001b[39m\n\u001b[1;32m    452\u001b[0m         \u001b[39m\"\u001b[39m\u001b[39mparameter will become keyword-only \u001b[39m\u001b[39m%(removal)s\u001b[39;00m\u001b[39m.\u001b[39m\u001b[39m\"\u001b[39m,\n\u001b[1;32m    453\u001b[0m         name\u001b[39m=\u001b[39mname, obj_type\u001b[39m=\u001b[39m\u001b[39mf\u001b[39m\u001b[39m\"\u001b[39m\u001b[39mparameter of \u001b[39m\u001b[39m{\u001b[39;00mfunc\u001b[39m.\u001b[39m\u001b[39m__name__\u001b[39m\u001b[39m}\u001b[39;00m\u001b[39m()\u001b[39m\u001b[39m\"\u001b[39m)\n\u001b[0;32m--> 454\u001b[0m \u001b[39mreturn\u001b[39;00m func(\u001b[39m*\u001b[39margs, \u001b[39m*\u001b[39m\u001b[39m*\u001b[39mkwargs)\n",
      "File \u001b[0;32m~/anaconda3/lib/python3.11/site-packages/matplotlib/patches.py:1190\u001b[0m, in \u001b[0;36mWedge.__init__\u001b[0;34m(self, center, r, theta1, theta2, width, **kwargs)\u001b[0m\n\u001b[1;32m   1177\u001b[0m \u001b[39m@_docstring\u001b[39m\u001b[39m.\u001b[39mdedent_interpd\n\u001b[1;32m   1178\u001b[0m \u001b[39m@_api\u001b[39m\u001b[39m.\u001b[39mmake_keyword_only(\u001b[39m\"\u001b[39m\u001b[39m3.6\u001b[39m\u001b[39m\"\u001b[39m, name\u001b[39m=\u001b[39m\u001b[39m\"\u001b[39m\u001b[39mwidth\u001b[39m\u001b[39m\"\u001b[39m)\n\u001b[1;32m   1179\u001b[0m \u001b[39mdef\u001b[39;00m \u001b[39m__init__\u001b[39m(\u001b[39mself\u001b[39m, center, r, theta1, theta2, width\u001b[39m=\u001b[39m\u001b[39mNone\u001b[39;00m, \u001b[39m*\u001b[39m\u001b[39m*\u001b[39mkwargs):\n\u001b[1;32m   1180\u001b[0m \u001b[39m    \u001b[39m\u001b[39m\"\"\"\u001b[39;00m\n\u001b[1;32m   1181\u001b[0m \u001b[39m    A wedge centered at *x*, *y* center with radius *r* that\u001b[39;00m\n\u001b[1;32m   1182\u001b[0m \u001b[39m    sweeps *theta1* to *theta2* (in degrees).  If *width* is given,\u001b[39;00m\n\u001b[0;32m   (...)\u001b[0m\n\u001b[1;32m   1188\u001b[0m \u001b[39m    %(Patch:kwdoc)s\u001b[39;00m\n\u001b[1;32m   1189\u001b[0m \u001b[39m    \"\"\"\u001b[39;00m\n\u001b[0;32m-> 1190\u001b[0m     \u001b[39msuper\u001b[39m()\u001b[39m.\u001b[39m\u001b[39m__init__\u001b[39m(\u001b[39m*\u001b[39m\u001b[39m*\u001b[39mkwargs)\n\u001b[1;32m   1191\u001b[0m     \u001b[39mself\u001b[39m\u001b[39m.\u001b[39mcenter \u001b[39m=\u001b[39m center\n\u001b[1;32m   1192\u001b[0m     \u001b[39mself\u001b[39m\u001b[39m.\u001b[39mr, \u001b[39mself\u001b[39m\u001b[39m.\u001b[39mwidth \u001b[39m=\u001b[39m r, width\n",
      "File \u001b[0;32m~/anaconda3/lib/python3.11/site-packages/matplotlib/_api/deprecation.py:454\u001b[0m, in \u001b[0;36mmake_keyword_only.<locals>.wrapper\u001b[0;34m(*args, **kwargs)\u001b[0m\n\u001b[1;32m    448\u001b[0m \u001b[39mif\u001b[39;00m \u001b[39mlen\u001b[39m(args) \u001b[39m>\u001b[39m name_idx:\n\u001b[1;32m    449\u001b[0m     warn_deprecated(\n\u001b[1;32m    450\u001b[0m         since, message\u001b[39m=\u001b[39m\u001b[39m\"\u001b[39m\u001b[39mPassing the \u001b[39m\u001b[39m%(name)s\u001b[39;00m\u001b[39m \u001b[39m\u001b[39m%(obj_type)s\u001b[39;00m\u001b[39m \u001b[39m\u001b[39m\"\u001b[39m\n\u001b[1;32m    451\u001b[0m         \u001b[39m\"\u001b[39m\u001b[39mpositionally is deprecated since Matplotlib \u001b[39m\u001b[39m%(since)s\u001b[39;00m\u001b[39m; the \u001b[39m\u001b[39m\"\u001b[39m\n\u001b[1;32m    452\u001b[0m         \u001b[39m\"\u001b[39m\u001b[39mparameter will become keyword-only \u001b[39m\u001b[39m%(removal)s\u001b[39;00m\u001b[39m.\u001b[39m\u001b[39m\"\u001b[39m,\n\u001b[1;32m    453\u001b[0m         name\u001b[39m=\u001b[39mname, obj_type\u001b[39m=\u001b[39m\u001b[39mf\u001b[39m\u001b[39m\"\u001b[39m\u001b[39mparameter of \u001b[39m\u001b[39m{\u001b[39;00mfunc\u001b[39m.\u001b[39m\u001b[39m__name__\u001b[39m\u001b[39m}\u001b[39;00m\u001b[39m()\u001b[39m\u001b[39m\"\u001b[39m)\n\u001b[0;32m--> 454\u001b[0m \u001b[39mreturn\u001b[39;00m func(\u001b[39m*\u001b[39margs, \u001b[39m*\u001b[39m\u001b[39m*\u001b[39mkwargs)\n",
      "File \u001b[0;32m~/anaconda3/lib/python3.11/site-packages/matplotlib/patches.py:85\u001b[0m, in \u001b[0;36mPatch.__init__\u001b[0;34m(self, edgecolor, facecolor, color, linewidth, linestyle, antialiased, hatch, fill, capstyle, joinstyle, **kwargs)\u001b[0m\n\u001b[1;32m     83\u001b[0m \u001b[39melse\u001b[39;00m:\n\u001b[1;32m     84\u001b[0m     \u001b[39mself\u001b[39m\u001b[39m.\u001b[39mset_edgecolor(edgecolor)\n\u001b[0;32m---> 85\u001b[0m     \u001b[39mself\u001b[39m\u001b[39m.\u001b[39mset_facecolor(facecolor)\n\u001b[1;32m     87\u001b[0m \u001b[39mself\u001b[39m\u001b[39m.\u001b[39m_linewidth \u001b[39m=\u001b[39m \u001b[39m0\u001b[39m\n\u001b[1;32m     88\u001b[0m \u001b[39mself\u001b[39m\u001b[39m.\u001b[39m_unscaled_dash_pattern \u001b[39m=\u001b[39m (\u001b[39m0\u001b[39m, \u001b[39mNone\u001b[39;00m)  \u001b[39m# offset, dash\u001b[39;00m\n",
      "File \u001b[0;32m~/anaconda3/lib/python3.11/site-packages/matplotlib/patches.py:359\u001b[0m, in \u001b[0;36mPatch.set_facecolor\u001b[0;34m(self, color)\u001b[0m\n\u001b[1;32m    351\u001b[0m \u001b[39m\u001b[39m\u001b[39m\"\"\"\u001b[39;00m\n\u001b[1;32m    352\u001b[0m \u001b[39mSet the patch face color.\u001b[39;00m\n\u001b[1;32m    353\u001b[0m \n\u001b[0;32m   (...)\u001b[0m\n\u001b[1;32m    356\u001b[0m \u001b[39mcolor : color or None\u001b[39;00m\n\u001b[1;32m    357\u001b[0m \u001b[39m\"\"\"\u001b[39;00m\n\u001b[1;32m    358\u001b[0m \u001b[39mself\u001b[39m\u001b[39m.\u001b[39m_original_facecolor \u001b[39m=\u001b[39m color\n\u001b[0;32m--> 359\u001b[0m \u001b[39mself\u001b[39m\u001b[39m.\u001b[39m_set_facecolor(color)\n",
      "File \u001b[0;32m~/anaconda3/lib/python3.11/site-packages/matplotlib/patches.py:347\u001b[0m, in \u001b[0;36mPatch._set_facecolor\u001b[0;34m(self, color)\u001b[0m\n\u001b[1;32m    345\u001b[0m     color \u001b[39m=\u001b[39m mpl\u001b[39m.\u001b[39mrcParams[\u001b[39m'\u001b[39m\u001b[39mpatch.facecolor\u001b[39m\u001b[39m'\u001b[39m]\n\u001b[1;32m    346\u001b[0m alpha \u001b[39m=\u001b[39m \u001b[39mself\u001b[39m\u001b[39m.\u001b[39m_alpha \u001b[39mif\u001b[39;00m \u001b[39mself\u001b[39m\u001b[39m.\u001b[39m_fill \u001b[39melse\u001b[39;00m \u001b[39m0\u001b[39m\n\u001b[0;32m--> 347\u001b[0m \u001b[39mself\u001b[39m\u001b[39m.\u001b[39m_facecolor \u001b[39m=\u001b[39m colors\u001b[39m.\u001b[39mto_rgba(color, alpha)\n\u001b[1;32m    348\u001b[0m \u001b[39mself\u001b[39m\u001b[39m.\u001b[39mstale \u001b[39m=\u001b[39m \u001b[39mTrue\u001b[39;00m\n",
      "File \u001b[0;32m~/anaconda3/lib/python3.11/site-packages/matplotlib/colors.py:299\u001b[0m, in \u001b[0;36mto_rgba\u001b[0;34m(c, alpha)\u001b[0m\n\u001b[1;32m    297\u001b[0m     rgba \u001b[39m=\u001b[39m \u001b[39mNone\u001b[39;00m\n\u001b[1;32m    298\u001b[0m \u001b[39mif\u001b[39;00m rgba \u001b[39mis\u001b[39;00m \u001b[39mNone\u001b[39;00m:  \u001b[39m# Suppress exception chaining of cache lookup failure.\u001b[39;00m\n\u001b[0;32m--> 299\u001b[0m     rgba \u001b[39m=\u001b[39m _to_rgba_no_colorcycle(c, alpha)\n\u001b[1;32m    300\u001b[0m     \u001b[39mtry\u001b[39;00m:\n\u001b[1;32m    301\u001b[0m         _colors_full_map\u001b[39m.\u001b[39mcache[c, alpha] \u001b[39m=\u001b[39m rgba\n",
      "File \u001b[0;32m~/anaconda3/lib/python3.11/site-packages/matplotlib/colors.py:374\u001b[0m, in \u001b[0;36m_to_rgba_no_colorcycle\u001b[0;34m(c, alpha)\u001b[0m\n\u001b[1;32m    370\u001b[0m             \u001b[39mraise\u001b[39;00m \u001b[39mValueError\u001b[39;00m(\n\u001b[1;32m    371\u001b[0m                 \u001b[39mf\u001b[39m\u001b[39m\"\u001b[39m\u001b[39mInvalid string grayscale value \u001b[39m\u001b[39m{\u001b[39;00morig_c\u001b[39m!r}\u001b[39;00m\u001b[39m. \u001b[39m\u001b[39m\"\u001b[39m\n\u001b[1;32m    372\u001b[0m                 \u001b[39mf\u001b[39m\u001b[39m\"\u001b[39m\u001b[39mValue must be within 0-1 range\u001b[39m\u001b[39m\"\u001b[39m)\n\u001b[1;32m    373\u001b[0m         \u001b[39mreturn\u001b[39;00m c, c, c, alpha \u001b[39mif\u001b[39;00m alpha \u001b[39mis\u001b[39;00m \u001b[39mnot\u001b[39;00m \u001b[39mNone\u001b[39;00m \u001b[39melse\u001b[39;00m \u001b[39m1.\u001b[39m\n\u001b[0;32m--> 374\u001b[0m     \u001b[39mraise\u001b[39;00m \u001b[39mValueError\u001b[39;00m(\u001b[39mf\u001b[39m\u001b[39m\"\u001b[39m\u001b[39mInvalid RGBA argument: \u001b[39m\u001b[39m{\u001b[39;00morig_c\u001b[39m!r}\u001b[39;00m\u001b[39m\"\u001b[39m)\n\u001b[1;32m    375\u001b[0m \u001b[39m# turn 2-D array into 1-D array\u001b[39;00m\n\u001b[1;32m    376\u001b[0m \u001b[39mif\u001b[39;00m \u001b[39misinstance\u001b[39m(c, np\u001b[39m.\u001b[39mndarray):\n",
      "\u001b[0;31mValueError\u001b[0m: Invalid RGBA argument: 'ed'"
     ]
    },
    {
     "data": {
      "image/png": "[encoded data removed]",
      "text/plain": [
       "<Figure size 640x480 with 1 Axes>"
      ]
     },
     "metadata": {},
     "output_type": "display_data"
    }
   ],
   "source": [
    "# Visualizing GPS Accuracy Model\n",
    "\n",
    "# Import necessary libraries\n",
    "import numpy as np\n",
    "import matplotlib.pyplot as plt\n",
    "\n",
    "# Define the GPS accuracy levels\n",
    "levels = ['High', 'Moderate', 'Low']\n",
    "\n",
    "# Define the number of devices for each level\n",
    "devices = [1000, 500, 200]\n",
    "\n",
    "# Define the colors for each level\n",
    "colors = ['green', 'yellow', 'ed']\n",
    "\n",
    "# Create a pie chart to visualize the GPS accuracy levels\n",
    "plt.pie(devices, labels=levels, colors=colors, autopct='%1.1f%%', startangle=90)\n",
    "plt.title('GPS Accuracy Distribution')\n",
    "plt.legend(title='Accuracy Levels')\n",
    "plt.show()"
   ]
  },
  {
   "attachments": {},
   "cell_type": "markdown",
   "metadata": {},
   "source": [
    "The purpose of this GPS pie chart is to visually represent the distribution of GPS accuracy levels in a dataset. The chart is created using the matplotlib library in Python. The pie chart is divided into three sections, each representing a different GPS accuracy level: High, Moderate, and Low. The size of each section in the pie chart is proportional to the number of devices with that accuracy level.\n",
    "The colors used for each section of the pie chart are green, yellow, and red, respectively.\n",
    "These colors can be customized to better represent the accuracy levels in your dataset.\n",
    "The pie chart also includes a title and a legend, which provide context and clarity for the visualization. The title is \"GPS Accuracy Distribution,\" and the legend lists the accuracy levels and their corresponding colors.\n",
    "This pie chart can help you quickly and easily understand the distribution of GPS accuracy levels in your dataset, making it easier to identify any patterns or trends."
   ]
  },
  {
   "attachments": {},
   "cell_type": "markdown",
   "metadata": {},
   "source": []
  },
  {
   "cell_type": "code",
   "execution_count": null,
   "metadata": {},
   "outputs": [],
   "source": [
    "def test_conclusion_matrix_type():\n",
    "    assert isinstance(conclusion_matrix, dict), \"Conclusion matrix is not a dictionary.\"\n",
    "    def test_conclusion_matrix_fields():\n",
    "        expected_fields = ['Model', 'Data', 'Features', 'Target Variable', 'Accuracy']\n",
    "        assert all(field in conclusion_matrix for field in expected_fields), \"Conclusion matrix does not contain all expected fields.\"\n",
    "        def test_conclusion_matrix_model():\n",
    "            expected_model = 'Gradient Boosting Classifier'\n",
    "            assert conclusion_matrix['Model'] == expected_model, f\"Conclusion matrix 'Model' field has an incorrect value. Expected: {expected_model}, Actual: {conclusion_matrix['Model']}\"\n",
    "            def test_conclusion_matrix_data():\n",
    "                expected_data = 'New_bookings.csv'\n",
    "                assert conclusion_matrix['Data'] == expected_data, f\"Conclusion matrix 'Data' field has an incorrect value. Expected: {expected_data}, Actual: {conclusion_matrix['Data']}\"\n",
    "                def test_conclusion_matrix_accuracy():\n",
    "                    assert isinstance(conclusion_matrix['Accuracy'], float), \"Conclusion matrix 'Accuracy' field is not a float.\"\n",
    "                    assert 0.0 <= conclusion_matrix['Accuracy'] <= 1.0, \"Conclusion matrix 'Accuracy' field is not within the range of 0.0 to 1.0.\"\n",
    "                    import pandas as pd\n",
    "                    import matplotlib.pyplot as plt\n",
    "                    \n",
    "                    # Load the data\n",
    "                    data = pd.read_csv('New_bookings.csv')\n",
    "                    \n",
    "                    # Preprocess the data\n",
    "                    # Assuming 'DELAY' is the target variable and the rest are features\n",
    "                    X = data.drop('DELAY', axis=1)\n",
    "                    y = data['DELAY']\n",
    "                    \n",
    "                    # Create a confusion matrix\n",
    "                    # Assuming 'y_pred' is the predicted target variable\n",
    "                    from sklearn.metrics import confusion_matrix\n",
    "                    \n",
    "                    y_pred = model.predict(X_test)  # Replace 'odel' with the actual trained model\n",
    "                    \n",
    "                    cm = confusion_matrix(y_test, y_pred)\n",
    "                    \n",
    "                    # Visualize the confusion matrix\n",
    "                    plt.imshow(cm, interpolation='nearest', cmap=plt.cm.Blues)\n",
    "                    plt.title('Confusion Matrix')\n",
    "                    plt.colorbar()\n",
    "                    tick_marks = np.arange(len(y.unique()))\n",
    "                    plt.xticks(tick_marks, y.unique(), rotation=45)\n",
    "                    plt.yticks(tick_marks, y.unique())\n",
    "                    plt.xlabel('Predicted Label')\n",
    "                    plt.ylabel('True Label')\n",
    "                    plt.show()\n",
    "                    "
   ]
  },
  {
   "cell_type": "code",
   "execution_count": null,
   "metadata": {},
   "outputs": [
    {
     "data": {
      "image/png": "[encoded data removed]",
      "text/plain": [
       "<Figure size 640x480 with 1 Axes>"
      ]
     },
     "metadata": {},
     "output_type": "display_data"
    }
   ],
   "source": [
    "# Import necessary libraries\n",
    "import numpy as np\n",
    "import matplotlib.pyplot as plt\n",
    "from sklearn.linear_model import LogisticRegression\n",
    "from sklearn.datasets import make_classification\n",
    "\n",
    "# Generate a synthetic dataset for logistic regression\n",
    "X, y = make_classification(n_samples=100, n_features=2, n_informative=2, n_redundant=0, random_state=42)\n",
    "\n",
    "# Initialize the logistic regression model\n",
    "model = LogisticRegression()\n",
    "\n",
    "# Train the model\n",
    "model.fit(X, y)\n",
    "\n",
    "# Create a meshgrid for plotting the decision boundary\n",
    "x1_min, x1_max = X[:, 0].min() - 0.5, X[:, 0].max() + 0.5\n",
    "x2_min, x2_max = X[:, 1].min() - 0.5, X[:, 1].max() + 0.5\n",
    "xx, yy = np.meshgrid(np.arange(x1_min, x1_max, 0.02), np.arange(x2_min, x2_max, 0.02))\n",
    "\n",
    "# Make predictions on the meshgrid\n",
    "Z = model.predict(np.c_[xx.ravel(), yy.ravel()])\n",
    "Z = Z.reshape(xx.shape)\n",
    "\n",
    "# Plot the decision boundary and the data points\n",
    "plt.contourf(xx, yy, Z, cmap=plt.cm.Paired)\n",
    "plt.scatter(X[:, 0], X[:, 1], c=y, cmap=plt.cm.Paired)\n",
    "plt.xlabel('Feature 1')\n",
    "plt.ylabel('Feature 2')\n",
    "plt.title('Logistic Regression Decision Boundary')\n",
    "plt.show()"
   ]
  },
  {
   "attachments": {},
   "cell_type": "markdown",
   "metadata": {},
   "source": [
    "The purpose of the provided logistic regression markdown code is to demonstrate the implementation of a logistic regression model using the scikit-learn library in Python. Logistic regression is a statistical method used for binary classification problems, where the goal is to predict the probability of a class or outcome based on a set of independent variables.\n",
    "In this code snippet, the steps involved in implementing a logistic regression model are outlined:\n",
    "1. Import the necessary libraries: pandas for data manipulation, numpy for numerical operations, and sklearn for machine learning algorithms.\n",
    "2. Load the dataset: The code assumes that the dataset is stored in a CSV file named\n",
    "'New_bookings.csv'. The dataset is loaded into a pandas DataFrame named 'data'.\n",
    "3. Preprocess the data: The code assumes that the target variable is named 'DELAY' and the rest of the columns are features. The target variable is separated from the features using the 'drop' function.\n",
    "4. Split the data into training and testing sets: The code uses the 'train_test_split' function from the sklearn.model_selection module to split the dataset into training and testing sets. The training set is used to train the model, and the testing set is used to evaluate its performance.\n",
    "5. Initialize the logistic regression model: The code creates an instance of the LogisticRegression class from the sklearn.linear_model module.\n",
    "6. Train the model: The code uses the fit' function of the logistic regression model to train the model using the training data.\n",
    "7. Make predictions: The code uses the trained model to make predictions on the testing data using the 'predict' function.\n",
    "8. Evaluate the model: The code calculates the accuracy score of the model using the\n",
    "'accuracy_score' function from the sklearn.metrics module.\n",
    "9. Print the accuracy score: The code prints the accuracy score of the model.\n",
    "This code snippet provides a simple example of how to implement a logistic regression model using the scikit-learn library in Python."
   ]
  },
  {
   "cell_type": "code",
   "execution_count": null,
   "metadata": {},
   "outputs": [
    {
     "data": {
      "image/png": "[encoded data removed]",
      "text/plain": [
       "<Figure size 640x480 with 1 Axes>"
      ]
     },
     "metadata": {},
     "output_type": "display_data"
    }
   ],
   "source": [
    "import numpy as np\n",
    "import matplotlib.pyplot as plt\n",
    "\n",
    "# Generate random shipment numbers\n",
    "shipment_numbers = np.random.randint(1000, 10000, size=10)\n",
    "\n",
    "# Create a bar chart\n",
    "plt.bar(range(len(shipment_numbers)), shipment_numbers, color='blue')\n",
    "plt.xlabel('Shipment Number')\n",
    "plt.ylabel('Quantity')\n",
    "plt.title('Shipment Numbers')\n",
    "plt.xticks(range(len(shipment_numbers)), shipment_numbers)\n",
    "plt.show()"
   ]
  },
  {
   "cell_type": "code",
   "execution_count": null,
   "metadata": {},
   "outputs": [],
   "source": [
    "import pandas as pd\n",
    "import numpy as np\n",
    "import matplotlib.pyplot as plt\n",
    "import seaborn as sns\n",
    "from datetime import datetime, timedelta\n",
    "from sklearn.model_selection import train_test_split\n",
    "from sklearn.ensemble import RandomForestClassifier\n",
    "from sklearn.metrics import accuracy_score, confusion_matrix\n",
    "\n",
    "# Load the data\n",
    "shipment_bookings = pd.read_csv('Shipment_bookings.csv')\n",
    "gps_data = pd.read_csv('GPS_data.csv')\n",
    "new_bookings = pd.read_csv('New_bookings.csv')\n",
    "\n",
    "# Convert timestamps to datetime\n",
    "shipment_bookings['FIRST_COLLECTION_SCHEDULE_EARLIEST'] = pd.to_datetime(shipment_bookings['FIRST_COLLECTION_SCHEDULE_EARLIEST'])\n",
    "shipment_bookings['FIRST_COLLECTION_SCHEDULE_LATEST'] = pd.to_datetime(shipment_bookings['FIRST_COLLECTION_SCHEDULE_LATEST'])\n",
    "shipment_bookings['LAST_DELIVERY_SCHEDULE_EARLIEST'] = pd.to_datetime(shipment_bookings['LAST_DELIVERY_SCHEDULE_EARLIEST'])\n",
    "shipment_bookings['LAST_DELIVERY_SCHEDULE_LATEST'] = pd.to_datetime(shipment_bookings['LAST_DELIVERY_SCHEDULE_LATEST'])\n",
    "gps_data['RECORD_TIMESTAMP'] = pd.to_datetime(gps_data['RECORD_TIMESTAMP'])"
   ]
  },
  {
   "cell_type": "code",
   "execution_count": null,
   "metadata": {},
   "outputs": [
    {
     "data": {
      "image/png": "[encoded data removed]",
      "text/plain": [
       "<Figure size 1000x600 with 1 Axes>"
      ]
     },
     "metadata": {},
     "output_type": "display_data"
    }
   ],
   "source": [
    "plt.figure(figsize=(10, 6))\n",
    "sns.countplot(data=shipment_bookings, x='VEHICLE_SIZE')\n",
    "plt.title('Distribution of Vehicle Sizes')\n",
    "plt.xlabel('Vehicle Size')\n",
    "plt.ylabel('Count')\n",
    "plt.xticks(rotation=45)\n",
    "plt.show()\n"
   ]
  },
  {
   "attachments": {},
   "cell_type": "markdown",
   "metadata": {},
   "source": [
    "Distribution of Vehicle Sizes\n",
    "\n",
    "# Summary statistics for shipment bookings\n",
    "summary_stats = shipment_bookings.describe()\n",
    "tools.display_dataframe_to_user(name=\"Summary Statistics for Shipment Bookings\", dataframe=summary_stats)\n"
   ]
  },
  {
   "cell_type": "code",
   "execution_count": null,
   "metadata": {},
   "outputs": [
    {
     "data": {
      "image/png": "[encoded data removed]",
      "text/plain": [
       "<Figure size 1200x600 with 2 Axes>"
      ]
     },
     "metadata": {},
     "output_type": "display_data"
    }
   ],
   "source": [
    "plt.figure(figsize=(12, 6))\n",
    "shipment_bookings['COLLECTION_HOUR'] = shipment_bookings['FIRST_COLLECTION_SCHEDULE_EARLIEST'].dt.hour\n",
    "shipment_bookings['DELIVERY_HOUR'] = shipment_bookings['LAST_DELIVERY_SCHEDULE_EARLIEST'].dt.hour\n",
    "\n",
    "plt.subplot(1, 2, 1)\n",
    "sns.histplot(shipment_bookings['COLLECTION_HOUR'], bins=24, kde=True)\n",
    "plt.title('Distribution of Collection Times')\n",
    "plt.xlabel('Hour of Day')\n",
    "plt.ylabel('Count')\n",
    "\n",
    "plt.subplot(1, 2, 2)\n",
    "sns.histplot(shipment_bookings['DELIVERY_HOUR'], bins=24, kde=True)\n",
    "plt.title('Distribution of Delivery Times')\n",
    "plt.xlabel('Hour of Day')\n",
    "plt.ylabel('Count')\n",
    "\n",
    "plt.tight_layout()\n",
    "plt.show()\n"
   ]
  },
  {
   "attachments": {},
   "cell_type": "markdown",
   "metadata": {},
   "source": [
    "Distribution of Collection and Delivery Times\n",
    "\n"
   ]
  },
  {
   "cell_type": "code",
   "execution_count": null,
   "metadata": {},
   "outputs": [
    {
     "data": {
      "image/png": "[encoded data removed]",
      "text/plain": [
       "<Figure size 800x600 with 1 Axes>"
      ]
     },
     "metadata": {},
     "output_type": "display_data"
    }
   ],
   "source": [
    "# Merge gps_data with shipment_bookings to get scheduled delivery times\n",
    "merged_data = pd.merge(gps_data, shipment_bookings, on='SHIPMENT_NUMBER', how='left')\n",
    "\n",
    "# Function to determine if a delivery is on-time\n",
    "def is_on_time(row):\n",
    "    latest_delivery_time = pd.to_datetime(row['LAST_DELIVERY_SCHEDULE_LATEST'])\n",
    "    actual_delivery_time = row['RECORD_TIMESTAMP']\n",
    "    return actual_delivery_time <= latest_delivery_time + timedelta(minutes=30)\n",
    "\n",
    "# Apply the function to the data\n",
    "merged_data['ON_TIME'] = merged_data.apply(is_on_time, axis=1)\n",
    "on_time_percentage = merged_data['ON_TIME'].mean() * 100\n",
    "\n",
    "# Visualize the on-time delivery percentage\n",
    "plt.figure(figsize=(8, 6))\n",
    "plt.bar(['On-Time Deliveries', 'Late Deliveries'], [on_time_percentage, 100 - on_time_percentage], color=['green', 'red'])\n",
    "plt.title('On-Time Delivery Percentage')\n",
    "plt.ylabel('Percentage')\n",
    "plt.ylim(0, 100)\n",
    "plt.show()\n"
   ]
  },
  {
   "attachments": {},
   "cell_type": "markdown",
   "metadata": {},
   "source": [
    "2. On-time Delivery Analysis\n",
    "\n",
    "Calculate On-time Deliveries"
   ]
  },
  {
   "cell_type": "code",
   "execution_count": null,
   "metadata": {},
   "outputs": [
    {
     "ename": "KeyError",
     "evalue": "\"['SHIPPER_ID'] not in index\"",
     "output_type": "error",
     "traceback": [
      "\u001b[0;31m---------------------------------------------------------------------------\u001b[0m",
      "\u001b[0;31mKeyError\u001b[0m                                  Traceback (most recent call last)",
      "Cell \u001b[0;32mIn[148], line 18\u001b[0m\n\u001b[1;32m     15\u001b[0m late_notifications \u001b[39m=\u001b[39m merged_data[merged_data[\u001b[39m'\u001b[39m\u001b[39mNOTIFY_LATE\u001b[39m\u001b[39m'\u001b[39m]]\n\u001b[1;32m     17\u001b[0m \u001b[39m# Display the list of shippers and their corresponding shipments for notifications\u001b[39;00m\n\u001b[0;32m---> 18\u001b[0m late_notifications_list \u001b[39m=\u001b[39m late_notifications[[\u001b[39m'\u001b[39m\u001b[39mSHIPPER_ID\u001b[39m\u001b[39m'\u001b[39m, \u001b[39m'\u001b[39m\u001b[39mSHIPMENT_NUMBER\u001b[39m\u001b[39m'\u001b[39m, \u001b[39m'\u001b[39m\u001b[39mRECORD_TIMESTAMP\u001b[39m\u001b[39m'\u001b[39m]]\n\u001b[1;32m     19\u001b[0m \u001b[39mprint\u001b[39m(\u001b[39m\"\u001b[39m\u001b[39mLate Shipment Notifications:\u001b[39m\u001b[39m\\n\u001b[39;00m\u001b[39m\"\u001b[39m \u001b[39m+\u001b[39m late_notifications_list\u001b[39m.\u001b[39mto_string())\n",
      "File \u001b[0;32m~/anaconda3/lib/python3.11/site-packages/pandas/core/frame.py:3813\u001b[0m, in \u001b[0;36mDataFrame.__getitem__\u001b[0;34m(self, key)\u001b[0m\n\u001b[1;32m   3811\u001b[0m     \u001b[39mif\u001b[39;00m is_iterator(key):\n\u001b[1;32m   3812\u001b[0m         key \u001b[39m=\u001b[39m \u001b[39mlist\u001b[39m(key)\n\u001b[0;32m-> 3813\u001b[0m     indexer \u001b[39m=\u001b[39m \u001b[39mself\u001b[39m\u001b[39m.\u001b[39mcolumns\u001b[39m.\u001b[39m_get_indexer_strict(key, \u001b[39m\"\u001b[39m\u001b[39mcolumns\u001b[39m\u001b[39m\"\u001b[39m)[\u001b[39m1\u001b[39m]\n\u001b[1;32m   3815\u001b[0m \u001b[39m# take() does not accept boolean indexers\u001b[39;00m\n\u001b[1;32m   3816\u001b[0m \u001b[39mif\u001b[39;00m \u001b[39mgetattr\u001b[39m(indexer, \u001b[39m\"\u001b[39m\u001b[39mdtype\u001b[39m\u001b[39m\"\u001b[39m, \u001b[39mNone\u001b[39;00m) \u001b[39m==\u001b[39m \u001b[39mbool\u001b[39m:\n",
      "File \u001b[0;32m~/anaconda3/lib/python3.11/site-packages/pandas/core/indexes/base.py:6070\u001b[0m, in \u001b[0;36mIndex._get_indexer_strict\u001b[0;34m(self, key, axis_name)\u001b[0m\n\u001b[1;32m   6067\u001b[0m \u001b[39melse\u001b[39;00m:\n\u001b[1;32m   6068\u001b[0m     keyarr, indexer, new_indexer \u001b[39m=\u001b[39m \u001b[39mself\u001b[39m\u001b[39m.\u001b[39m_reindex_non_unique(keyarr)\n\u001b[0;32m-> 6070\u001b[0m \u001b[39mself\u001b[39m\u001b[39m.\u001b[39m_raise_if_missing(keyarr, indexer, axis_name)\n\u001b[1;32m   6072\u001b[0m keyarr \u001b[39m=\u001b[39m \u001b[39mself\u001b[39m\u001b[39m.\u001b[39mtake(indexer)\n\u001b[1;32m   6073\u001b[0m \u001b[39mif\u001b[39;00m \u001b[39misinstance\u001b[39m(key, Index):\n\u001b[1;32m   6074\u001b[0m     \u001b[39m# GH 42790 - Preserve name from an Index\u001b[39;00m\n",
      "File \u001b[0;32m~/anaconda3/lib/python3.11/site-packages/pandas/core/indexes/base.py:6133\u001b[0m, in \u001b[0;36mIndex._raise_if_missing\u001b[0;34m(self, key, indexer, axis_name)\u001b[0m\n\u001b[1;32m   6130\u001b[0m     \u001b[39mraise\u001b[39;00m \u001b[39mKeyError\u001b[39;00m(\u001b[39mf\u001b[39m\u001b[39m\"\u001b[39m\u001b[39mNone of [\u001b[39m\u001b[39m{\u001b[39;00mkey\u001b[39m}\u001b[39;00m\u001b[39m] are in the [\u001b[39m\u001b[39m{\u001b[39;00maxis_name\u001b[39m}\u001b[39;00m\u001b[39m]\u001b[39m\u001b[39m\"\u001b[39m)\n\u001b[1;32m   6132\u001b[0m not_found \u001b[39m=\u001b[39m \u001b[39mlist\u001b[39m(ensure_index(key)[missing_mask\u001b[39m.\u001b[39mnonzero()[\u001b[39m0\u001b[39m]]\u001b[39m.\u001b[39munique())\n\u001b[0;32m-> 6133\u001b[0m \u001b[39mraise\u001b[39;00m \u001b[39mKeyError\u001b[39;00m(\u001b[39mf\u001b[39m\u001b[39m\"\u001b[39m\u001b[39m{\u001b[39;00mnot_found\u001b[39m}\u001b[39;00m\u001b[39m not in index\u001b[39m\u001b[39m\"\u001b[39m)\n",
      "\u001b[0;31mKeyError\u001b[0m: \"['SHIPPER_ID'] not in index\""
     ]
    }
   ],
   "source": [
    "# Import necessary libraries\n",
    "import pandas as pd\n",
    "from datetime import timedelta\n",
    "\n",
    "# Notify shippers when GPS timestamps are later than earliest delivery time + 30 mins\n",
    "def notify_late_shipments(row):\n",
    "    earliest_delivery_time = pd.to_datetime(row['LAST_DELIVERY_SCHEDULE_EARLIEST'])\n",
    "    actual_timestamp = row['RECORD_TIMESTAMP']\n",
    "    return actual_timestamp > earliest_delivery_time + timedelta(minutes=30)\n",
    "\n",
    "# Create the 'NOTIFY_LATE' column\n",
    "merged_data['NOTIFY_LATE'] = merged_data.apply(notify_late_shipments, axis=1)\n",
    "\n",
    "# Filter the rows where 'NOTIFY_LATE' is True\n",
    "late_notifications = merged_data[merged_data['NOTIFY_LATE']]\n",
    "\n",
    "# Display the list of shippers and their corresponding shipments for notifications\n",
    "late_notifications_list = late_notifications[['SHIPPER_ID', 'SHIPMENT_NUMBER', 'RECORD_TIMESTAMP']]\n",
    "print(\"Late Shipment Notifications:\\n\" + late_notifications_list.to_string())"
   ]
  },
  {
   "cell_type": "code",
   "execution_count": null,
   "metadata": {},
   "outputs": [
    {
     "ename": "KeyError",
     "evalue": "\"['SHIPPER_ID'] not in index\"",
     "output_type": "error",
     "traceback": [
      "\u001b[0;31m---------------------------------------------------------------------------\u001b[0m",
      "\u001b[0;31mKeyError\u001b[0m                                  Traceback (most recent call last)",
      "Cell \u001b[0;32mIn[138], line 15\u001b[0m\n\u001b[1;32m     12\u001b[0m late_notifications \u001b[39m=\u001b[39m merged_data[merged_data[\u001b[39m'\u001b[39m\u001b[39mNOTIFY_LATE\u001b[39m\u001b[39m'\u001b[39m]]\n\u001b[1;32m     14\u001b[0m \u001b[39m# Display the list of shippers and their corresponding shipments for notifications\u001b[39;00m\n\u001b[0;32m---> 15\u001b[0m late_notifications_list \u001b[39m=\u001b[39m late_notifications[[\u001b[39m'\u001b[39m\u001b[39mSHIPPER_ID\u001b[39m\u001b[39m'\u001b[39m, \u001b[39m'\u001b[39m\u001b[39mSHIPMENT_NUMBER\u001b[39m\u001b[39m'\u001b[39m, \u001b[39m'\u001b[39m\u001b[39mRECORD_TIMESTAMP\u001b[39m\u001b[39m'\u001b[39m]]\n\u001b[1;32m     16\u001b[0m tools\u001b[39m.\u001b[39mdisplay_dataframe_to_user(name\u001b[39m=\u001b[39m\u001b[39m\"\u001b[39m\u001b[39mLate Shipment Notifications\u001b[39m\u001b[39m\"\u001b[39m, dataframe\u001b[39m=\u001b[39mlate_notifications_list)\n",
      "File \u001b[0;32m~/anaconda3/lib/python3.11/site-packages/pandas/core/frame.py:3813\u001b[0m, in \u001b[0;36mDataFrame.__getitem__\u001b[0;34m(self, key)\u001b[0m\n\u001b[1;32m   3811\u001b[0m     \u001b[39mif\u001b[39;00m is_iterator(key):\n\u001b[1;32m   3812\u001b[0m         key \u001b[39m=\u001b[39m \u001b[39mlist\u001b[39m(key)\n\u001b[0;32m-> 3813\u001b[0m     indexer \u001b[39m=\u001b[39m \u001b[39mself\u001b[39m\u001b[39m.\u001b[39mcolumns\u001b[39m.\u001b[39m_get_indexer_strict(key, \u001b[39m\"\u001b[39m\u001b[39mcolumns\u001b[39m\u001b[39m\"\u001b[39m)[\u001b[39m1\u001b[39m]\n\u001b[1;32m   3815\u001b[0m \u001b[39m# take() does not accept boolean indexers\u001b[39;00m\n\u001b[1;32m   3816\u001b[0m \u001b[39mif\u001b[39;00m \u001b[39mgetattr\u001b[39m(indexer, \u001b[39m\"\u001b[39m\u001b[39mdtype\u001b[39m\u001b[39m\"\u001b[39m, \u001b[39mNone\u001b[39;00m) \u001b[39m==\u001b[39m \u001b[39mbool\u001b[39m:\n",
      "File \u001b[0;32m~/anaconda3/lib/python3.11/site-packages/pandas/core/indexes/base.py:6070\u001b[0m, in \u001b[0;36mIndex._get_indexer_strict\u001b[0;34m(self, key, axis_name)\u001b[0m\n\u001b[1;32m   6067\u001b[0m \u001b[39melse\u001b[39;00m:\n\u001b[1;32m   6068\u001b[0m     keyarr, indexer, new_indexer \u001b[39m=\u001b[39m \u001b[39mself\u001b[39m\u001b[39m.\u001b[39m_reindex_non_unique(keyarr)\n\u001b[0;32m-> 6070\u001b[0m \u001b[39mself\u001b[39m\u001b[39m.\u001b[39m_raise_if_missing(keyarr, indexer, axis_name)\n\u001b[1;32m   6072\u001b[0m keyarr \u001b[39m=\u001b[39m \u001b[39mself\u001b[39m\u001b[39m.\u001b[39mtake(indexer)\n\u001b[1;32m   6073\u001b[0m \u001b[39mif\u001b[39;00m \u001b[39misinstance\u001b[39m(key, Index):\n\u001b[1;32m   6074\u001b[0m     \u001b[39m# GH 42790 - Preserve name from an Index\u001b[39;00m\n",
      "File \u001b[0;32m~/anaconda3/lib/python3.11/site-packages/pandas/core/indexes/base.py:6133\u001b[0m, in \u001b[0;36mIndex._raise_if_missing\u001b[0;34m(self, key, indexer, axis_name)\u001b[0m\n\u001b[1;32m   6130\u001b[0m     \u001b[39mraise\u001b[39;00m \u001b[39mKeyError\u001b[39;00m(\u001b[39mf\u001b[39m\u001b[39m\"\u001b[39m\u001b[39mNone of [\u001b[39m\u001b[39m{\u001b[39;00mkey\u001b[39m}\u001b[39;00m\u001b[39m] are in the [\u001b[39m\u001b[39m{\u001b[39;00maxis_name\u001b[39m}\u001b[39;00m\u001b[39m]\u001b[39m\u001b[39m\"\u001b[39m)\n\u001b[1;32m   6132\u001b[0m not_found \u001b[39m=\u001b[39m \u001b[39mlist\u001b[39m(ensure_index(key)[missing_mask\u001b[39m.\u001b[39mnonzero()[\u001b[39m0\u001b[39m]]\u001b[39m.\u001b[39munique())\n\u001b[0;32m-> 6133\u001b[0m \u001b[39mraise\u001b[39;00m \u001b[39mKeyError\u001b[39;00m(\u001b[39mf\u001b[39m\u001b[39m\"\u001b[39m\u001b[39m{\u001b[39;00mnot_found\u001b[39m}\u001b[39;00m\u001b[39m not in index\u001b[39m\u001b[39m\"\u001b[39m)\n",
      "\u001b[0;31mKeyError\u001b[0m: \"['SHIPPER_ID'] not in index\""
     ]
    }
   ],
   "source": [
    "# Import the necessary module or define the function\n",
    "import pandas as pd\n",
    "from datetime import timedelta\n",
    "\n",
    "# Notify shippers when GPS timestamps are later than earliest delivery time + 30 mins\n",
    "def notify_late_shipments(row):\n",
    "    earliest_delivery_time = pd.to_datetime(row['LAST_DELIVERY_SCHEDULE_EARLIEST'])\n",
    "    actual_timestamp = row['RECORD_TIMESTAMP']\n",
    "    return actual_timestamp > earliest_delivery_time + timedelta(minutes=30)\n",
    "\n",
    "merged_data['NOTIFY_LATE'] = merged_data.apply(notify_late_shipments, axis=1)\n",
    "late_notifications = merged_data[merged_data['NOTIFY_LATE']]\n",
    "\n",
    "# Display the list of shippers and their corresponding shipments for notifications\n",
    "late_notifications_list = late_notifications[['SHIPPER_ID', 'SHIPMENT_NUMBER', 'RECORD_TIMESTAMP']]\n",
    "tools.display_dataframe_to_user(name=\"Late Shipment Notifications\", dataframe=late_notifications_list)"
   ]
  },
  {
   "attachments": {},
   "cell_type": "markdown",
   "metadata": {},
   "source": [
    "3. Late Delivery Notifications\n",
    "Identify Potential Late Deliveries"
   ]
  },
  {
   "cell_type": "code",
   "execution_count": null,
   "metadata": {},
   "outputs": [],
   "source": [
    "def test_legend_displayed():\n",
    "    legend = plt.gca().get_legend()\n",
    "    assert legend is not None, \"Legend is not displayed.\"\n",
    "    assert len(legend.get_texts()) == len(late_notifications['SHIPPER_ID'].unique()), \"Incorrect number of shipper names in the legend.\"\n",
    "    def test_legend_labels_correct():\n",
    "        legend = plt.gca().get_legend()\n",
    "        shipper_names = late_notifications['SHIPPER_ID'].unique()\n",
    "        for i, text in enumerate(legend.get_texts()):\n",
    "            assert text.get_text() == f'Shipper {shipper_names[i]}', f\"Incorrect shipper name in the legend. Expected: Shipper {shipper_names[i]}, Actual: {text.get_text()}\"\n",
    "            def test_legend_labels_unique():\n",
    "                legend = plt.gca().get_legend()\n",
    "                shipper_names = late_notifications['SHIPPER_ID'].unique()\n",
    "                assert len(set(legend.get_texts())) == len(shipper_names), \"Legend labels are not unique.\"\n",
    "                def test_legend_labels_sorted_alphabetically():\n",
    "                    legend = plt.gca().get_legend()\n",
    "                    shipper_names = sorted(late_notifications['SHIPPER_ID'].unique())\n",
    "                    for i, text in enumerate(legend.get_texts()):\n",
    "                        assert text.get_text() == f'Shipper {shipper_names[i]}', f\"Legend labels are not sorted alphabetically. Expected: Shipper {shipper_names[i]}, Actual: {text.get_text()}\"\n",
    "                        def test_legend_labels_sorted_alphabetically():\n",
    "                            legend = plt.gca().get_legend()\n",
    "                            shipper_names = sorted(late_notifications['SHIPPER_ID'].unique())\n",
    "                            for i, text in enumerate(legend.get_texts()):\n",
    "                                assert text.get_text() == f'Shipper {shipper_names[i]}', f\"Legend labels are not sorted alphabetically. Expected: Shipper {shipper_names[i]}, Actual: {text.get_text()}\"\n",
    "                                def test_legend_labels_not_empty():\n",
    "                                    legend = plt.gca().get_legend()\n",
    "                                    assert all(text.get_text()!= '' for text in legend.get_texts()), \"Legend labels are empty.\"\n"
   ]
  },
  {
   "attachments": {},
   "cell_type": "markdown",
   "metadata": {},
   "source": [
    "Timeline Visualization\n",
    "\n"
   ]
  },
  {
   "cell_type": "code",
   "execution_count": null,
   "metadata": {},
   "outputs": [],
   "source": [
    "import numpy as np\n",
    "import pandas as pd\n",
    "from sklearn.ensemble import RandomForestClassifier\n",
    "\n",
    "def get_feature_importance(model, features):\n",
    "    # Get the feature importances from the trained model\n",
    "    importances = model.feature_importances_\n",
    "\n",
    "    # Create a dictionary containing the feature importances\n",
    "    feature_importance = {feature: importance for feature, importance in zip(features, importances)}\n",
    "\n",
    "    return feature_importance"
   ]
  },
  {
   "attachments": {},
   "cell_type": "markdown",
   "metadata": {},
   "source": [
    "4. Feature Importance and Model Performance\n",
    "\n",
    "\n",
    "\n",
    "Feature Importance\n",
    "\n"
   ]
  },
  {
   "cell_type": "code",
   "execution_count": null,
   "metadata": {},
   "outputs": [],
   "source": [
    "import numpy as np\n",
    "import pandas as pd\n",
    "from sklearn.ensemble import RandomForestClassifier\n",
    "\n",
    "def get_feature_importance(model, features):\n",
    "    # Get the feature importances from the trained model\n",
    "    importances = model.feature_importances_\n",
    "\n",
    "    # Create a dictionary containing the feature importances\n",
    "    feature_importance = {feature: importance for feature, importance in zip(features, importances)}\n",
    "\n",
    "    return feature_importance"
   ]
  },
  {
   "attachments": {},
   "cell_type": "markdown",
   "metadata": {},
   "source": [
    "Model Performance\n",
    "\n"
   ]
  },
  {
   "attachments": {},
   "cell_type": "markdown",
   "metadata": {},
   "source": [
    "# Summary Slide Content\n",
    "\n",
    "## Key Insights\n",
    "- On-time delivery percentage: [Calculated On-time Percentage]%\n",
    "- Potential late shipments identified: [Number of Potential Late Shipments]\n",
    "\n",
    "## Recommendations\n",
    "- Improve real-time tracking and notifications for shippers.\n",
    "- Utilize predictive analytics to identify potential delays in advance.\n",
    "- Enhance operational efficiency by analyzing vehicle and shipment data.\n",
    "\n",
    "## Model Performance\n",
    "- Prediction model accuracy: [Model Accuracy]%\n",
    "- Feature importance analysis shows vehicle size and hour of the day as significant predictors.\n"
   ]
  }
 ],
 "metadata": {
  "kernelspec": {
   "display_name": "base",
   "language": "python",
   "name": "python3"
  },
  "language_info": {
   "codemirror_mode": {
    "name": "ipython",
    "version": 3
   },
   "file_extension": ".py",
   "mimetype": "text/x-python",
   "name": "python",
   "nbconvert_exporter": "python",
   "pygments_lexer": "ipython3",
   "version": "3.11.4"
  },
  "orig_nbformat": 4
 },
 "nbformat": 4,
 "nbformat_minor": 2
}
